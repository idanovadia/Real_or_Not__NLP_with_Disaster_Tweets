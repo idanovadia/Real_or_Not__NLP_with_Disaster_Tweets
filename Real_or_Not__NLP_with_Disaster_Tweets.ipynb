{
  "nbformat": 4,
  "nbformat_minor": 0,
  "metadata": {
    "colab": {
      "name": "Real or Not? NLP with Disaster Tweets.ipynb",
      "provenance": [],
      "collapsed_sections": []
    },
    "kernelspec": {
      "name": "python3",
      "display_name": "Python 3"
    },
    "accelerator": "GPU"
  },
  "cells": [
    {
      "cell_type": "code",
      "metadata": {
        "id": "JemaIce7iR87",
        "colab_type": "code",
        "colab": {}
      },
      "source": [
        "import numpy as np\n",
        "import pandas as pd\n",
        "import matplotlib.pyplot as plt\n",
        "import seaborn as sns\n",
        "import gc\n",
        "from itertools import product\n",
        "from xgboost import XGBClassifier\n",
        "from xgboost import plot_importance\n",
        "from datetime import datetime, date\n",
        "from sklearn.linear_model import LinearRegression\n",
        "from sklearn.ensemble import RandomForestRegressor\n",
        "\n",
        "%matplotlib inline"
      ],
      "execution_count": 0,
      "outputs": []
    },
    {
      "cell_type": "code",
      "metadata": {
        "id": "11q26BgtidpH",
        "colab_type": "code",
        "outputId": "403e820e-f1d9-4de1-f668-62379402415d",
        "colab": {
          "base_uri": "https://localhost:8080/",
          "height": 126
        }
      },
      "source": [
        "from google.colab import drive\n",
        "drive.mount('/content/drive')"
      ],
      "execution_count": 2,
      "outputs": [
        {
          "output_type": "stream",
          "text": [
            "Go to this URL in a browser: https://accounts.google.com/o/oauth2/auth?client_id=947318989803-6bn6qk8qdgf4n4g3pfee6491hc0brc4i.apps.googleusercontent.com&redirect_uri=urn%3aietf%3awg%3aoauth%3a2.0%3aoob&response_type=code&scope=email%20https%3a%2f%2fwww.googleapis.com%2fauth%2fdocs.test%20https%3a%2f%2fwww.googleapis.com%2fauth%2fdrive%20https%3a%2f%2fwww.googleapis.com%2fauth%2fdrive.photos.readonly%20https%3a%2f%2fwww.googleapis.com%2fauth%2fpeopleapi.readonly\n",
            "\n",
            "Enter your authorization code:\n",
            "··········\n",
            "Mounted at /content/drive\n"
          ],
          "name": "stdout"
        }
      ]
    },
    {
      "cell_type": "code",
      "metadata": {
        "id": "iSGW4V8RieMH",
        "colab_type": "code",
        "colab": {}
      },
      "source": [
        "# train = pd.read_csv('/content/drive/My Drive/kaggle/train.csv')\n",
        "# test = pd.read_csv('/content/drive/My Drive/kaggle/test.csv')\n",
        "# sample_submission = pd.read_csv('/content/drive/My Drive/kaggle/sample_submission.csv')"
      ],
      "execution_count": 0,
      "outputs": []
    },
    {
      "cell_type": "code",
      "metadata": {
        "id": "mzgQfWLKFRWJ",
        "colab_type": "code",
        "colab": {}
      },
      "source": [
        "train = pd.read_csv(\"/kaggle/input/nlp-getting-started/train.csv\")\n",
        "test = pd.read_csv(\"/kaggle/input/nlp-getting-started/test.csv\")\n",
        "sample_submission = pd.read_csv(\"/kaggle/input/nlp-getting-started/sample_submission.csv\")"
      ],
      "execution_count": 0,
      "outputs": []
    },
    {
      "cell_type": "markdown",
      "metadata": {
        "id": "xem4xF5yXOjh",
        "colab_type": "text"
      },
      "source": [
        "You are predicting whether a given tweet is about a real disaster or not. If so, predict a 1. If not, predict a 0.\n",
        "\n"
      ]
    },
    {
      "cell_type": "code",
      "metadata": {
        "id": "XzBhVa6KWe6P",
        "colab_type": "code",
        "outputId": "62e40ace-c9fc-4a2c-8f68-405d0ad192f9",
        "colab": {
          "base_uri": "https://localhost:8080/",
          "height": 194
        }
      },
      "source": [
        "train.head(5)"
      ],
      "execution_count": 9,
      "outputs": [
        {
          "output_type": "execute_result",
          "data": {
            "text/html": [
              "<div>\n",
              "<style scoped>\n",
              "    .dataframe tbody tr th:only-of-type {\n",
              "        vertical-align: middle;\n",
              "    }\n",
              "\n",
              "    .dataframe tbody tr th {\n",
              "        vertical-align: top;\n",
              "    }\n",
              "\n",
              "    .dataframe thead th {\n",
              "        text-align: right;\n",
              "    }\n",
              "</style>\n",
              "<table border=\"1\" class=\"dataframe\">\n",
              "  <thead>\n",
              "    <tr style=\"text-align: right;\">\n",
              "      <th></th>\n",
              "      <th>id</th>\n",
              "      <th>keyword</th>\n",
              "      <th>location</th>\n",
              "      <th>text</th>\n",
              "      <th>target</th>\n",
              "    </tr>\n",
              "  </thead>\n",
              "  <tbody>\n",
              "    <tr>\n",
              "      <th>0</th>\n",
              "      <td>1</td>\n",
              "      <td>NaN</td>\n",
              "      <td>NaN</td>\n",
              "      <td>Our Deeds are the Reason of this #earthquake M...</td>\n",
              "      <td>1</td>\n",
              "    </tr>\n",
              "    <tr>\n",
              "      <th>1</th>\n",
              "      <td>4</td>\n",
              "      <td>NaN</td>\n",
              "      <td>NaN</td>\n",
              "      <td>Forest fire near La Ronge Sask. Canada</td>\n",
              "      <td>1</td>\n",
              "    </tr>\n",
              "    <tr>\n",
              "      <th>2</th>\n",
              "      <td>5</td>\n",
              "      <td>NaN</td>\n",
              "      <td>NaN</td>\n",
              "      <td>All residents asked to 'shelter in place' are ...</td>\n",
              "      <td>1</td>\n",
              "    </tr>\n",
              "    <tr>\n",
              "      <th>3</th>\n",
              "      <td>6</td>\n",
              "      <td>NaN</td>\n",
              "      <td>NaN</td>\n",
              "      <td>13,000 people receive #wildfires evacuation or...</td>\n",
              "      <td>1</td>\n",
              "    </tr>\n",
              "    <tr>\n",
              "      <th>4</th>\n",
              "      <td>7</td>\n",
              "      <td>NaN</td>\n",
              "      <td>NaN</td>\n",
              "      <td>Just got sent this photo from Ruby #Alaska as ...</td>\n",
              "      <td>1</td>\n",
              "    </tr>\n",
              "  </tbody>\n",
              "</table>\n",
              "</div>"
            ],
            "text/plain": [
              "   id keyword  ...                                               text target\n",
              "0   1     NaN  ...  Our Deeds are the Reason of this #earthquake M...      1\n",
              "1   4     NaN  ...             Forest fire near La Ronge Sask. Canada      1\n",
              "2   5     NaN  ...  All residents asked to 'shelter in place' are ...      1\n",
              "3   6     NaN  ...  13,000 people receive #wildfires evacuation or...      1\n",
              "4   7     NaN  ...  Just got sent this photo from Ruby #Alaska as ...      1\n",
              "\n",
              "[5 rows x 5 columns]"
            ]
          },
          "metadata": {
            "tags": []
          },
          "execution_count": 9
        }
      ]
    },
    {
      "cell_type": "code",
      "metadata": {
        "id": "5D5iw-tpWhg3",
        "colab_type": "code",
        "outputId": "93c01964-0c3d-4dcf-d3e4-68903b051f02",
        "colab": {
          "base_uri": "https://localhost:8080/",
          "height": 194
        }
      },
      "source": [
        "test.head(5)"
      ],
      "execution_count": 0,
      "outputs": [
        {
          "output_type": "execute_result",
          "data": {
            "text/html": [
              "<div>\n",
              "<style scoped>\n",
              "    .dataframe tbody tr th:only-of-type {\n",
              "        vertical-align: middle;\n",
              "    }\n",
              "\n",
              "    .dataframe tbody tr th {\n",
              "        vertical-align: top;\n",
              "    }\n",
              "\n",
              "    .dataframe thead th {\n",
              "        text-align: right;\n",
              "    }\n",
              "</style>\n",
              "<table border=\"1\" class=\"dataframe\">\n",
              "  <thead>\n",
              "    <tr style=\"text-align: right;\">\n",
              "      <th></th>\n",
              "      <th>id</th>\n",
              "      <th>keyword</th>\n",
              "      <th>location</th>\n",
              "      <th>text</th>\n",
              "    </tr>\n",
              "  </thead>\n",
              "  <tbody>\n",
              "    <tr>\n",
              "      <th>0</th>\n",
              "      <td>0</td>\n",
              "      <td>NaN</td>\n",
              "      <td>NaN</td>\n",
              "      <td>Just happened a terrible car crash</td>\n",
              "    </tr>\n",
              "    <tr>\n",
              "      <th>1</th>\n",
              "      <td>2</td>\n",
              "      <td>NaN</td>\n",
              "      <td>NaN</td>\n",
              "      <td>Heard about #earthquake is different cities, s...</td>\n",
              "    </tr>\n",
              "    <tr>\n",
              "      <th>2</th>\n",
              "      <td>3</td>\n",
              "      <td>NaN</td>\n",
              "      <td>NaN</td>\n",
              "      <td>there is a forest fire at spot pond, geese are...</td>\n",
              "    </tr>\n",
              "    <tr>\n",
              "      <th>3</th>\n",
              "      <td>9</td>\n",
              "      <td>NaN</td>\n",
              "      <td>NaN</td>\n",
              "      <td>Apocalypse lighting. #Spokane #wildfires</td>\n",
              "    </tr>\n",
              "    <tr>\n",
              "      <th>4</th>\n",
              "      <td>11</td>\n",
              "      <td>NaN</td>\n",
              "      <td>NaN</td>\n",
              "      <td>Typhoon Soudelor kills 28 in China and Taiwan</td>\n",
              "    </tr>\n",
              "  </tbody>\n",
              "</table>\n",
              "</div>"
            ],
            "text/plain": [
              "   id keyword location                                               text\n",
              "0   0     NaN      NaN                 Just happened a terrible car crash\n",
              "1   2     NaN      NaN  Heard about #earthquake is different cities, s...\n",
              "2   3     NaN      NaN  there is a forest fire at spot pond, geese are...\n",
              "3   9     NaN      NaN           Apocalypse lighting. #Spokane #wildfires\n",
              "4  11     NaN      NaN      Typhoon Soudelor kills 28 in China and Taiwan"
            ]
          },
          "metadata": {
            "tags": []
          },
          "execution_count": 5
        }
      ]
    },
    {
      "cell_type": "code",
      "metadata": {
        "id": "xsD39hhAXI1Z",
        "colab_type": "code",
        "outputId": "8c561521-eb51-4900-ccbf-7295e2568927",
        "colab": {
          "base_uri": "https://localhost:8080/",
          "height": 194
        }
      },
      "source": [
        "sample_submission.head()"
      ],
      "execution_count": 0,
      "outputs": [
        {
          "output_type": "execute_result",
          "data": {
            "text/html": [
              "<div>\n",
              "<style scoped>\n",
              "    .dataframe tbody tr th:only-of-type {\n",
              "        vertical-align: middle;\n",
              "    }\n",
              "\n",
              "    .dataframe tbody tr th {\n",
              "        vertical-align: top;\n",
              "    }\n",
              "\n",
              "    .dataframe thead th {\n",
              "        text-align: right;\n",
              "    }\n",
              "</style>\n",
              "<table border=\"1\" class=\"dataframe\">\n",
              "  <thead>\n",
              "    <tr style=\"text-align: right;\">\n",
              "      <th></th>\n",
              "      <th>id</th>\n",
              "      <th>target</th>\n",
              "    </tr>\n",
              "  </thead>\n",
              "  <tbody>\n",
              "    <tr>\n",
              "      <th>0</th>\n",
              "      <td>0</td>\n",
              "      <td>0</td>\n",
              "    </tr>\n",
              "    <tr>\n",
              "      <th>1</th>\n",
              "      <td>2</td>\n",
              "      <td>0</td>\n",
              "    </tr>\n",
              "    <tr>\n",
              "      <th>2</th>\n",
              "      <td>3</td>\n",
              "      <td>0</td>\n",
              "    </tr>\n",
              "    <tr>\n",
              "      <th>3</th>\n",
              "      <td>9</td>\n",
              "      <td>0</td>\n",
              "    </tr>\n",
              "    <tr>\n",
              "      <th>4</th>\n",
              "      <td>11</td>\n",
              "      <td>0</td>\n",
              "    </tr>\n",
              "  </tbody>\n",
              "</table>\n",
              "</div>"
            ],
            "text/plain": [
              "   id  target\n",
              "0   0       0\n",
              "1   2       0\n",
              "2   3       0\n",
              "3   9       0\n",
              "4  11       0"
            ]
          },
          "metadata": {
            "tags": []
          },
          "execution_count": 6
        }
      ]
    },
    {
      "cell_type": "code",
      "metadata": {
        "id": "nXPcTkZxXK6O",
        "colab_type": "code",
        "outputId": "9d79b530-fa48-4686-f68e-dde1535d8f0c",
        "colab": {
          "base_uri": "https://localhost:8080/",
          "height": 563
        }
      },
      "source": [
        "hist = train.hist(bins=10,column='target')\n",
        "train = train.drop_duplicates().reset_index(drop=True)\n",
        "hist1 = train.hist(bins=10,column='target')\n",
        "\n",
        "print(hist,hist1)"
      ],
      "execution_count": 0,
      "outputs": [
        {
          "output_type": "stream",
          "text": [
            "[[<matplotlib.axes._subplots.AxesSubplot object at 0x7f278c03a390>]] [[<matplotlib.axes._subplots.AxesSubplot object at 0x7f278bfb3b00>]]\n"
          ],
          "name": "stdout"
        },
        {
          "output_type": "display_data",
          "data": {
            "image/png": "[encoded data removed]",
            "text/plain": [
              "<Figure size 432x288 with 1 Axes>"
            ]
          },
          "metadata": {
            "tags": []
          }
        },
        {
          "output_type": "display_data",
          "data": {
            "image/png": "[encoded data removed]",
            "text/plain": [
              "<Figure size 432x288 with 1 Axes>"
            ]
          },
          "metadata": {
            "tags": []
          }
        }
      ]
    },
    {
      "cell_type": "code",
      "metadata": {
        "id": "gOQ_pvOwE0Wq",
        "colab_type": "code",
        "colab": {
          "base_uri": "https://localhost:8080/",
          "height": 404
        },
        "outputId": "64192368-0141-4acb-d51e-cc787b6fd39a"
      },
      "source": [
        "plt.figure(figsize=(9,6))\n",
        "sns.countplot(y=train.keyword, order = train.keyword.value_counts().iloc[:15].index)\n",
        "plt.title('Top 15 keywords')\n",
        "plt.show()"
      ],
      "execution_count": 4,
      "outputs": [
        {
          "output_type": "display_data",
          "data": {
            "image/png": "[encoded data removed]",
            "text/plain": [
              "<Figure size 648x432 with 1 Axes>"
            ]
          },
          "metadata": {
            "tags": []
          }
        }
      ]
    },
    {
      "cell_type": "code",
      "metadata": {
        "id": "q9dQTVtNE39K",
        "colab_type": "code",
        "colab": {
          "base_uri": "https://localhost:8080/",
          "height": 350
        },
        "outputId": "f51f6b08-1037-40e3-f829-000af19306da"
      },
      "source": [
        "kw_d = train[train.target==1].keyword.value_counts().head(10)\n",
        "kw_nd = train[train.target==0].keyword.value_counts().head(10)\n",
        "\n",
        "plt.figure(figsize=(13,5))\n",
        "plt.subplot(121)\n",
        "sns.barplot(kw_d, kw_d.index, color='c')\n",
        "plt.title('Top keywords for disaster tweets')\n",
        "plt.subplot(122)\n",
        "sns.barplot(kw_nd, kw_nd.index, color='y')\n",
        "plt.title('Top keywords for non-disaster tweets')\n",
        "plt.show()"
      ],
      "execution_count": 5,
      "outputs": [
        {
          "output_type": "display_data",
          "data": {
            "image/png": "[encoded data removed]",
            "text/plain": [
              "<Figure size 936x360 with 2 Axes>"
            ]
          },
          "metadata": {
            "tags": []
          }
        }
      ]
    },
    {
      "cell_type": "code",
      "metadata": {
        "id": "-Fd2j1RSE8DM",
        "colab_type": "code",
        "colab": {
          "base_uri": "https://localhost:8080/",
          "height": 404
        },
        "outputId": "1a614162-0b3f-4fa8-8fce-4c03e96bded0"
      },
      "source": [
        "# Most common locations\n",
        "plt.figure(figsize=(9,6))\n",
        "sns.countplot(y=train.location, order = train.location.value_counts().iloc[:15].index)\n",
        "plt.title('Top 15 locations')\n",
        "plt.show()"
      ],
      "execution_count": 6,
      "outputs": [
        {
          "output_type": "display_data",
          "data": {
            "image/png": "[encoded data removed]",
            "text/plain": [
              "<Figure size 648x432 with 1 Axes>"
            ]
          },
          "metadata": {
            "tags": []
          }
        }
      ]
    },
    {
      "cell_type": "code",
      "metadata": {
        "id": "JsoY85qTFAh3",
        "colab_type": "code",
        "colab": {
          "base_uri": "https://localhost:8080/",
          "height": 468
        },
        "outputId": "7b067c30-ced2-433f-a508-0fcc4729a700"
      },
      "source": [
        "raw_loc = train.location.value_counts()\n",
        "top_loc = list(raw_loc[raw_loc>=10].index)\n",
        "top_only = train[train.location.isin(top_loc)]\n",
        "\n",
        "top_l = top_only.groupby('location').mean()['target'].sort_values(ascending=False)\n",
        "plt.figure(figsize=(14,6))\n",
        "sns.barplot(x=top_l.index, y=top_l)\n",
        "plt.axhline(np.mean(train.target))\n",
        "plt.xticks(rotation=80)\n",
        "plt.show()"
      ],
      "execution_count": 7,
      "outputs": [
        {
          "output_type": "display_data",
          "data": {
            "image/png": "[encoded data removed]",
            "text/plain": [
              "<Figure size 1008x432 with 1 Axes>"
            ]
          },
          "metadata": {
            "tags": []
          }
        }
      ]
    },
    {
      "cell_type": "code",
      "metadata": {
        "id": "5vmQQ7I2XpAy",
        "colab_type": "code",
        "outputId": "eabd76c8-242b-4704-d766-5ccb5f1de471",
        "colab": {
          "base_uri": "https://localhost:8080/",
          "height": 70
        }
      },
      "source": [
        "import nltk\n",
        "import re\n",
        "nltk.download('punkt')"
      ],
      "execution_count": 0,
      "outputs": [
        {
          "output_type": "stream",
          "text": [
            "[nltk_data] Downloading package punkt to /root/nltk_data...\n",
            "[nltk_data]   Package punkt is already up-to-date!\n"
          ],
          "name": "stdout"
        },
        {
          "output_type": "execute_result",
          "data": {
            "text/plain": [
              "True"
            ]
          },
          "metadata": {
            "tags": []
          },
          "execution_count": 8
        }
      ]
    },
    {
      "cell_type": "code",
      "metadata": {
        "id": "RH9wYdTti5Y0",
        "colab_type": "code",
        "colab": {}
      },
      "source": [
        "import string\n",
        "\n",
        "def clean_text(text):\n",
        "    text = re.sub(r'https?://\\S+', '', text) # Remove link\n",
        "    text = re.sub(r'\\n',' ', text) # Remove line breaks\n",
        "    text = re.sub('\\s+', ' ', text).strip() # Remove leading, trailing, and extra spaces\n",
        "    return text\n",
        "train['text_clean'] = train['text'].apply(lambda x: clean_text(x))\n",
        "test['text_clean'] = test['text'].apply(lambda x: clean_text(x))"
      ],
      "execution_count": 0,
      "outputs": []
    },
    {
      "cell_type": "code",
      "metadata": {
        "id": "v2UZYEeVXUcN",
        "colab_type": "code",
        "colab": {}
      },
      "source": [
        "train['text_len'] =  train.apply(lambda row: int(len(row['text'])), axis=1)\n",
        "test['text_len'] =  test.apply(lambda row: int(len(row['text'])), axis=1)"
      ],
      "execution_count": 0,
      "outputs": []
    },
    {
      "cell_type": "code",
      "metadata": {
        "colab_type": "code",
        "id": "KL0nLFhsoac6",
        "colab": {}
      },
      "source": [
        "train_len_max = max(train['text_len'])\n",
        "test_len_max = max(test['text_len'])"
      ],
      "execution_count": 0,
      "outputs": []
    },
    {
      "cell_type": "code",
      "metadata": {
        "colab_type": "code",
        "id": "10O8k6G3qI2v",
        "colab": {}
      },
      "source": [
        "train['text_len'] =  train.apply(lambda row: float(len(row['text'])/train_len_max), axis=1)\n",
        "test['text_len'] =  test.apply(lambda row: float(len(row['text'])/test_len_max), axis=1)"
      ],
      "execution_count": 0,
      "outputs": []
    },
    {
      "cell_type": "code",
      "metadata": {
        "colab_type": "code",
        "outputId": "822c541c-76a3-43fb-aad4-cc40bb4ffcd0",
        "id": "r4q89d6KrrsA",
        "colab": {
          "base_uri": "https://localhost:8080/",
          "height": 230
        }
      },
      "source": [
        "train['text_len']"
      ],
      "execution_count": 0,
      "outputs": [
        {
          "output_type": "execute_result",
          "data": {
            "text/plain": [
              "0       0.439490\n",
              "1       0.242038\n",
              "2       0.847134\n",
              "3       0.414013\n",
              "4       0.560510\n",
              "          ...   \n",
              "7608    0.528662\n",
              "7609    0.796178\n",
              "7610    0.414013\n",
              "7611    0.872611\n",
              "7612    0.598726\n",
              "Name: text_len, Length: 7613, dtype: float64"
            ]
          },
          "metadata": {
            "tags": []
          },
          "execution_count": 13
        }
      ]
    },
    {
      "cell_type": "code",
      "metadata": {
        "id": "YQQr2XxYh3t5",
        "colab_type": "code",
        "colab": {}
      },
      "source": [
        "train['punctuation_count'] = train['text_clean'].apply(lambda x: len([c for c in str(x) if c in string.punctuation]))\n",
        "test['punctuation_count'] = test['text_clean'].apply(lambda x: len([c for c in str(x) if c in string.punctuation]))"
      ],
      "execution_count": 0,
      "outputs": []
    },
    {
      "cell_type": "code",
      "metadata": {
        "id": "rwZjZ02raASM",
        "colab_type": "code",
        "colab": {}
      },
      "source": [
        "train['hashtags']= train.apply(lambda row: re.findall(r\"#(\\w+)\", row['text']), axis=1)\n",
        "train['hashtags']= [i[0] if len(i)>0 else None for i in train['hashtags']]"
      ],
      "execution_count": 0,
      "outputs": []
    },
    {
      "cell_type": "code",
      "metadata": {
        "id": "_WnDr6OmH9jQ",
        "colab_type": "code",
        "colab": {}
      },
      "source": [
        "test['hashtags']= test.apply(lambda row: re.findall(r\"#(\\w+)\", row['text']), axis=1)\n",
        "test['hashtags']= [i[0] if len(i)>0 else None for i in test['hashtags']]"
      ],
      "execution_count": 0,
      "outputs": []
    },
    {
      "cell_type": "code",
      "metadata": {
        "id": "W0FNuDww00M7",
        "colab_type": "code",
        "colab": {}
      },
      "source": [
        "train['count_mentions']= train.apply(lambda row: len(re.findall(r\"@(\\w+)\", row['text'])), axis=1)\n",
        "train['count_hashtags']= train.apply(lambda row: len(re.findall(r\"#(\\w+)\", row['text'])), axis=1)\n",
        "train['count_links']= train.apply(lambda row: len(re.findall(r\"https?://\\S+\", row['text'])), axis=1)"
      ],
      "execution_count": 0,
      "outputs": []
    },
    {
      "cell_type": "code",
      "metadata": {
        "colab_type": "code",
        "id": "aw0ebt0SICmZ",
        "colab": {}
      },
      "source": [
        "test['count_mentions']= test.apply(lambda row: len(re.findall(r\"@(\\w+)\", row['text'])), axis=1)\n",
        "test['count_hashtags']= test.apply(lambda row: len(re.findall(r\"#(\\w+)\", row['text'])), axis=1)\n",
        "test['count_links']= test.apply(lambda row: len(re.findall(r\"https?://\\S+\", row['text'])), axis=1)"
      ],
      "execution_count": 0,
      "outputs": []
    },
    {
      "cell_type": "code",
      "metadata": {
        "id": "TgQnCFppp6Oh",
        "colab_type": "code",
        "colab": {}
      },
      "source": [
        "def remove_punctuation(s):\n",
        "  return s.translate(str.maketrans(' ', ' ', string.punctuation))"
      ],
      "execution_count": 0,
      "outputs": []
    },
    {
      "cell_type": "code",
      "metadata": {
        "colab_type": "code",
        "id": "b6RfW59Aqrte",
        "colab": {}
      },
      "source": [
        "# train['text_clean'] = train.apply(lambda row: remove_punctuation(row['text_clean']), axis=1)"
      ],
      "execution_count": 0,
      "outputs": []
    },
    {
      "cell_type": "code",
      "metadata": {
        "colab_type": "code",
        "id": "Xrrigp1_qrtk",
        "colab": {}
      },
      "source": [
        "# test['text_clean'] = test.apply(lambda row: remove_punctuation(row['text_clean']), axis=1)"
      ],
      "execution_count": 0,
      "outputs": []
    },
    {
      "cell_type": "code",
      "metadata": {
        "id": "kNN_JKNBYPjq",
        "colab_type": "code",
        "colab": {}
      },
      "source": [
        "train['tokenized_sents'] = train.apply(lambda row: nltk.word_tokenize(row['text_clean']), axis=1)"
      ],
      "execution_count": 0,
      "outputs": []
    },
    {
      "cell_type": "code",
      "metadata": {
        "colab_type": "code",
        "id": "-TaIpzryILVm",
        "colab": {}
      },
      "source": [
        "test['tokenized_sents'] = test.apply(lambda row: nltk.word_tokenize(row['text_clean']), axis=1)"
      ],
      "execution_count": 0,
      "outputs": []
    },
    {
      "cell_type": "code",
      "metadata": {
        "id": "7_URn1vGU_D1",
        "colab_type": "code",
        "colab": {}
      },
      "source": [
        "def countCL(new_text):\n",
        "  return sum(map(str.isupper, new_text))"
      ],
      "execution_count": 0,
      "outputs": []
    },
    {
      "cell_type": "code",
      "metadata": {
        "id": "3EZRdiLyU2k4",
        "colab_type": "code",
        "colab": {}
      },
      "source": [
        "train[\"count_Capital_letters\"] = train.apply(lambda row: int(countCL(row['text'])/20), axis=1)\n",
        "test[\"count_Capital_letters\"] = test.apply(lambda row: int(countCL(row['text'])/20), axis=1)"
      ],
      "execution_count": 0,
      "outputs": []
    },
    {
      "cell_type": "code",
      "metadata": {
        "id": "q-XmWPmtVpZB",
        "colab_type": "code",
        "colab": {}
      },
      "source": [
        "train[\"Capital_letters_precent\"] = train.apply(lambda row: (countCL(row['text']))/len(row['text']), axis=1)\n",
        "test[\"Capital_letters_precent\"] = test.apply(lambda row: (countCL(row['text']))/len(row['text']), axis=1)"
      ],
      "execution_count": 0,
      "outputs": []
    },
    {
      "cell_type": "code",
      "metadata": {
        "id": "u9Ej-GqeZkbz",
        "colab_type": "code",
        "outputId": "6c27903d-6fa2-4de7-adb4-00fa6e2e31c2",
        "colab": {
          "base_uri": "https://localhost:8080/",
          "height": 52
        }
      },
      "source": [
        "nltk.download('stopwords')\n",
        "from nltk.corpus import stopwords\n",
        "stop_words = set(stopwords.words('english'))"
      ],
      "execution_count": 0,
      "outputs": [
        {
          "output_type": "stream",
          "text": [
            "[nltk_data] Downloading package stopwords to /root/nltk_data...\n",
            "[nltk_data]   Package stopwords is already up-to-date!\n"
          ],
          "name": "stdout"
        }
      ]
    },
    {
      "cell_type": "code",
      "metadata": {
        "id": "9sl52tqEdzuY",
        "colab_type": "code",
        "colab": {}
      },
      "source": [
        "from nltk.stem import PorterStemmer    \n",
        "ps = PorterStemmer()"
      ],
      "execution_count": 0,
      "outputs": []
    },
    {
      "cell_type": "code",
      "metadata": {
        "id": "2A4c4XcRcugH",
        "colab_type": "code",
        "colab": {}
      },
      "source": [
        "def removeStopWordsAndStem(sentence):\n",
        " l = [ps.stem(w) for w in sentence if not w in stop_words]\n",
        " return l"
      ],
      "execution_count": 0,
      "outputs": []
    },
    {
      "cell_type": "code",
      "metadata": {
        "id": "W-Pav0BKcQOh",
        "colab_type": "code",
        "colab": {}
      },
      "source": [
        "train['tokenized_sents'] = train.apply(lambda row: removeStopWordsAndStem(row['tokenized_sents']), axis=1)"
      ],
      "execution_count": 0,
      "outputs": []
    },
    {
      "cell_type": "code",
      "metadata": {
        "colab_type": "code",
        "id": "Z2tC0j7zITX6",
        "colab": {}
      },
      "source": [
        "test['tokenized_sents'] = test.apply(lambda row: removeStopWordsAndStem(row['tokenized_sents']), axis=1)"
      ],
      "execution_count": 0,
      "outputs": []
    },
    {
      "cell_type": "code",
      "metadata": {
        "id": "9SpbJ_gXDhpC",
        "colab_type": "code",
        "colab": {}
      },
      "source": [
        "def isYear(sentence):\n",
        "  count = 0\n",
        "  for w in sentence:\n",
        "    try:\n",
        "      val = int(w)\n",
        "      if val >1900 and val < 2020:\n",
        "        count += 1\n",
        "    except ValueError:\n",
        "      pass\n",
        "  return count"
      ],
      "execution_count": 0,
      "outputs": []
    },
    {
      "cell_type": "code",
      "metadata": {
        "id": "yKYUkjzjDPsN",
        "colab_type": "code",
        "colab": {}
      },
      "source": [
        "train[\"years_count\"] = train.apply(lambda row: isYear(row['tokenized_sents']), axis=1)"
      ],
      "execution_count": 0,
      "outputs": []
    },
    {
      "cell_type": "code",
      "metadata": {
        "id": "Jx0ZZ401EtD9",
        "colab_type": "code",
        "colab": {}
      },
      "source": [
        "test[\"years_count\"] = test.apply(lambda row: isYear(row['tokenized_sents']), axis=1)"
      ],
      "execution_count": 0,
      "outputs": []
    },
    {
      "cell_type": "code",
      "metadata": {
        "id": "YAU_sJBMq4q4",
        "colab_type": "code",
        "colab": {}
      },
      "source": [
        "from sklearn.feature_extraction.text import TfidfVectorizer"
      ],
      "execution_count": 0,
      "outputs": []
    },
    {
      "cell_type": "code",
      "metadata": {
        "id": "FHEzBsT0yu8q",
        "colab_type": "code",
        "colab": {}
      },
      "source": [
        "list_tfidf = []\n",
        "for i in range(train.shape[0]):\n",
        "  list_tfidf = list_tfidf + train[\"tokenized_sents\"][i]"
      ],
      "execution_count": 0,
      "outputs": []
    },
    {
      "cell_type": "code",
      "metadata": {
        "colab_type": "code",
        "outputId": "d998666c-8968-425a-cd86-8131a0ec8243",
        "id": "PvKTwrgTIrmD",
        "colab": {
          "base_uri": "https://localhost:8080/",
          "height": 72
        }
      },
      "source": [
        "vectorizer = TfidfVectorizer(min_df=0.0001,max_features=1000,ngram_range=(1,2))\n",
        "p = vectorizer.fit_transform(list_tfidf).toarray()\n",
        "print(vectorizer.get_feature_names())\n",
        "print(len(vectorizer.get_feature_names()))"
      ],
      "execution_count": 0,
      "outputs": [
        {
          "output_type": "stream",
          "text": [
            "['00', '01', '05', '06', '08', '08 05', '10', '100', '11', '11 year', '12', '13', '15', '16', '16yr', '17', '18', '20', '2015', '24', '25', '30', '40', '50', '60', '70', 'abc', 'ablaz', 'about', 'accid', 'across', 'act', 'action', 'activ', 'actual', 'ad', 'affect', 'after', 'aftershock', 'ago', 'agre', 'ai', 'air', 'aircraft', 'airplan', 'airport', 'alarm', 'all', 'allow', 'almost', 'alon', 'alreadi', 'also', 'alway', 'am', 'ambul', 'america', 'american', 'amid', 'amp', 'an', 'ancient', 'and', 'angri', 'ani', 'anim', 'annihil', 'anniversari', 'anoth', 'answer', 'anthrax', 'anyon', 'anyth', 'apocalyps', 'appear', 'are', 'area', 'armageddon', 'armi', 'around', 'arrest', 'arriv', 'arson', 'arsonist', 'art', 'as', 'ask', 'ass', 'at', 'atom', 'attack', 'aug', 'august', 'australia', 'avalanch', 'ave', 'avoid', 'away', 'awesom', 'babi', 'back', 'bad', 'bag', 'ball', 'ban', 'bang', 'bar', 'battl', 'bayelsa', 'bbc', 'bc', 'be', 'beach', 'beat', 'beauti', 'becom', 'bed', 'begin', 'behind', 'believ', 'best', 'bestnaijamad', 'better', 'big', 'bigger', 'bioterror', 'black', 'blast', 'blaze', 'bleed', 'bless', 'blew', 'blight', 'blizzard', 'block', 'blood', 'bloodi', 'blown', 'blue', 'boat', 'bodi', 'bomb', 'bomber', 'book', 'boy', 'break', 'bridg', 'bring', 'british', 'brother', 'brown', 'bu', 'build', 'burn', 'bush', 'busi', 'but', 'buy', 'by', 'ca', 'cake', 'calgari', 'california', 'call', 'came', 'camp', 'can', 'captur', 'car', 'care', 'career', 'carri', 'case', 'casualti', 'catastroph', 'caught', 'caus', 'center', 'centr', 'chanc', 'chang', 'charg', 'check', 'chemic', 'chicago', 'child', 'children', 'chile', 'china', 'christian', 'citi', 'civilian', 'claim', 'class', 'cliff', 'climat', 'close', 'cnn', 'co', 'coach', 'collaps', 'collid', 'collis', 'colorado', 'come', 'comment', 'commun', 'compani', 'complet', 'comput', 'concern', 'conclus', 'confirm', 'content', 'continu', 'control', 'cool', 'cop', 'cost', 'costlier', 'could', 'counti', 'countri', 'coupl', 'cours', 'cover', 'crash', 'crazi', 'creat', 'crew', 'cri', 'crisi', 'cross', 'crush', 'curfew', 'cut', 'cyclon', 'dad', 'daili', 'damag', 'damn', 'danc', 'danger', 'data', 'date', 'day', 'dead', 'deal', 'death', 'debri', 'declar', 'deliv', 'delug', 'demolish', 'demolit', 'depart', 'derail', 'desol', 'destroy', 'destruct', 'deton', 'devast', 'did', 'die', 'differ', 'direct', 'disast', 'disea', 'diseas', 'displac', 'do', 'dog', 'don', 'done', 'dont', 'download', 'downtown', 'drake', 'drink', 'drive', 'driver', 'drop', 'drought', 'drown', 'dude', 'due', 'dust', 'earthquak', 'east', 'ebay', 'effect', 'electrocut', 'els', 'em', 'emerg', 'emmerdal', 'emot', 'end', 'engulf', 'enjoy', 'entir', 'escap', 'evacu', 'even', 'ever', 'everi', 'everyon', 'everyth', 'exchang', 'expect', 'expert', 'explod', 'explos', 'extrem', 'eye', 'eyewit', 'face', 'failur', 'fall', 'famili', 'famin', 'fan', 'far', 'fashion', 'fast', 'fatal', 'favorit', 'fear', 'fedex', 'feel', 'fight', 'film', 'final', 'find', 'fire', 'firefight', 'first', 'flag', 'flame', 'flash', 'flatten', 'flight', 'flood', 'follow', 'food', 'for', 'forc', 'forest', 'former', 'found', 'four', 'franc', 'free', 'friend', 'from', 'front', 'fuck', 'fukushima', 'full', 'fun', 'funtenna', 'ga', 'galact', 'game', 'gave', 'gbbo', 'gem', 'gener', 'germ', 'get', 'giant', 'girl', 'give', 'global', 'go', 'god', 'goe', 'gon', 'good', 'gop', 'got', 'govern', 'govt', 'great', 'green', 'group', 'grow', 'gt', 'guess', 'guid', 'gun', 'guy', 'ha', 'haha', 'hail', 'hailstorm', 'half', 'hand', 'handbag', 'happen', 'happi', 'hard', 'harm', 'hat', 'hate', 'have', 'hazard', 'he', 'head', 'health', 'hear', 'heard', 'heart', 'heat', 'heavi', 'helicopt', 'hell', 'hellfir', 'help', 'here', 'hero', 'hey', 'hi', 'high', 'hijack', 'hire', 'hiroshima', 'histori', 'hit', 'hold', 'hollywood', 'home', 'hope', 'horribl', 'horror', 'hors', 'hostag', 'hot', 'hour', 'hous', 'how', 'huge', 'human', 'hundr', 'hurrican', 'idea', 'if', 'ignit', 'im', 'imag', 'in', 'india', 'info', 'injur', 'injuri', 'insid', 'instead', 'insur', 'interest', 'intern', 'inund', 'investig', 'involv', 'iran', 'is', 'isi', 'islam', 'island', 'isra', 'israel', 'issu', 'it', 'japan', 'job', 'join', 'just', 'keep', 'kid', 'kill', 'king', 'knock', 'know', 'la', 'lab', 'ladi', 'lamp', 'land', 'landslid', 'larg', 'last', 'latest', 'lava', 'lead', 'learn', 'least', 'leather', 'leav', 'led', 'left', 'legionnair', 'let', 'level', 'libya', 'lie', 'life', 'light', 'lightn', 'like', 'line', 'link', 'list', 'listen', 'liter', 'littl', 'live', 'll', 'lol', 'long', 'longer', 'look', 'lord', 'lose', 'lost', 'lot', 'loud', 'love', 'low', 'lt', 'mad', 'made', 'madhya', 'major', 'make', 'malaysia', 'man', 'mani', 'manslaught', 'mark', 'market', 'mass', 'massacr', 'match', 'may', 'mayb', 'mayhem', 'me', 'mean', 'media', 'meek', 'meet', 'meltdown', 'member', 'memori', 'men', 'mention', 'mh370', 'middl', 'might', 'migrant', 'milit', 'militari', 'million', 'mind', 'mine', 'miner', 'minut', 'mishap', 'miss', 'mom', 'moment', 'money', 'month', 'more', 'morn', 'mosqu', 'mount', 'mountain', 'move', 'movi', 'mp', 'mph', 'much', 'mudslid', 'murder', 'music', 'muslim', 'must', 'my', 'myanmar', 'na', 'nagasaki', 'name', 'nation', 'natur', 'near', 'nearbi', 'nearli', 'need', 'never', 'new', 'news', 'next', 'nigerian', 'nigga', 'night', 'no', 'north', 'northern', 'not', 'noth', 'now', 'nowplay', 'nuclear', 'number', 'nw', 'obama', 'obliter', 'occur', 'of', 'offens', 'offic', 'offici', 'oh', 'oil', 'ok', 'okay', 'old', 'omg', 'on', 'one', 'onli', 'onlin', 'open', 'or', 'order', 'other', 'our', 'out', 'outbreak', 'outrag', 'outsid', 'over', 'pain', 'pakistan', 'pakistani', 'palestinian', 'pandemonium', 'panic', 'panick', 'parent', 'park', 'part', 'parti', 'pass', 'passeng', 'past', 'patienc', 'pay', 'peac', 'peopl', 'person', 'phone', 'photo', 'pic', 'pick', 'piec', 'pile', 'pilot', 'pkk', 'place', 'plan', 'plane', 'play', 'pleas', 'pm', 'point', 'polic', 'polici', 'polit', 'poor', 'possibl', 'post', 'power', 'ppl', 'pradesh', 'pray', 'prebreak', 'prepar', 'pretti', 'probabl', 'problem', 'project', 'properti', 'public', 'pull', 'put', 'quarantin', 'question', 'quiz', 'radio', 'rain', 'rainstorm', 'rate', 'raze', 'rd', 're', 're û_', 'reactor', 'read', 'readi', 'real', 'realli', 'reason', 'record', 'red', 'reddit', 'refuge', 'refugio', 'releas', 'rememb', 'report', 'rescu', 'rescuer', 'respond', 'respons', 'result', 'return', 'reunion', 'reuter', 'review', 'right', 'riot', 'rise', 'risk', 'river', 'rli', 'road', 'rock', 'room', 'rt', 'rubbl', 'ruin', 'rule', 'run', 'russia', 'russian', 'sad', 'said', 'saipan', 'sandstorm', 'saudi', 'save', 'saw', 'say', 'scare', 'scene', 'school', 'scream', 'sea', 'search', 'season', 'second', 'secret', 'secur', 'see', 'seek', 'seen', 'seismic', 'self', 'send', 'sensor', 'servic', 'set', 'sever', 'sex', 'share', 'she', 'shift', 'ship', 'shit', 'shoot', 'shot', 'shoulder', 'show', 'side', 'sign', 'sinc', 'sink', 'sinkhol', 'siren', 'sit', 'site', 'sleep', 'smoke', 'snowstorm', 'so', 'some', 'someon', 'someth', 'song', 'soon', 'sorri', 'soudelor', 'soul', 'sound', 'south', 'space', 'special', 'spill', 'spot', 'spring', 'st', 'stand', 'standard', 'star', 'start', 'state', 'stay', 'still', 'stock', 'stop', 'stori', 'storm', 'street', 'stretcher', 'strike', 'structur', 'student', 'subreddit', 'sue', 'suicid', 'summer', 'sunk', 'support', 'sure', 'surviv', 'survivor', 'suspect', 'swallow', 'take', 'taken', 'talk', 'target', 'team', 'teen', 'tell', 'templ', 'terror', 'terrorist', 'test', 'texa', 'thank', 'that', 'the', 'theater', 'there', 'they', 'thi', 'thing', 'think', 'though', 'thought', 'thousand', 'threat', 'three', 'thunder', 'thunderstorm', 'thursday', 'till', 'time', 'to', 'today', 'toddler', 'tomorrow', 'tonight', 'top', 'tornado', 'total', 'tote', 'town', 'track', 'traffic', 'tragedi', 'train', 'transport', 'trap', 'trauma', 'traumatis', 'travel', 'tree', 'trench', 'tri', 'troubl', 'truck', 'true', 'trust', 'truth', 'tsunami', 'turkey', 'turn', 'tv', 'tweet', 'twister', 'twitter', 'two', 'typhoon', 'typhoon devast', 'uk', 'unconfirm', 'under', 'unit', 'up', 'updat', 'upheav', 'ur', 'us', 'usa', 'use', 've', 'vehicl', 'via', 'victim', 'video', 'view', 'villag', 'violent', 'virgin', 'volcano', 'vote', 'vs', 'wa', 'wait', 'wake', 'walk', 'wall', 'wan', 'want', 'war', 'warn', 'watch', 'water', 'wave', 'way', 'we', 'weapon', 'weather', 'wed', 'wednesday', 'week', 'well', 'went', 'west', 'what', 'when', 'whi', 'whirlwind', 'white', 'who', 'whole', 'wild', 'wildfir', 'will', 'win', 'wind', 'windstorm', 'with', 'without', 'wo', 'woman', 'women', 'wonder', 'word', 'work', 'world', 'worri', 'worst', 'would', 'wound', 'wow', 'wreck', 'wreckag', 'wrong', 'ye', 'yeah', 'year', 'year old', 'yet', 'york', 'you', 'young', 'your', 'youth', 'youtub', 'zone', 'û_', 'ûª', 'ûªt', 'ûï', 'ûò', 'ûó']\n",
            "1000\n"
          ],
          "name": "stdout"
        }
      ]
    },
    {
      "cell_type": "code",
      "metadata": {
        "id": "8m-g8nlIBCuV",
        "colab_type": "code",
        "colab": {}
      },
      "source": [
        "def createTfIdfArray(list_of_tokens,vectorizer_v):\n",
        "  tmp = ' '.join(list_of_tokens)\n",
        "  vector = vectorizer_v.transform([tmp])\n",
        "  return vector.toarray()[0]"
      ],
      "execution_count": 0,
      "outputs": []
    },
    {
      "cell_type": "code",
      "metadata": {
        "id": "ZEnMfyGqc4is",
        "colab_type": "code",
        "colab": {}
      },
      "source": [
        "# list_tfidf_pos = []\n",
        "# list_tfidf_neg = []\n",
        "# for i in range(train.shape[0]):\n",
        "#   if train['target'][i] == 1:\n",
        "#     list_tfidf_pos = list_tfidf_pos + train[\"tokenized_sents\"][i]\n",
        "#   else:\n",
        "#     list_tfidf_neg = list_tfidf_neg + train[\"tokenized_sents\"][i]"
      ],
      "execution_count": 0,
      "outputs": []
    },
    {
      "cell_type": "code",
      "metadata": {
        "id": "Oat9Jiikd3Tk",
        "colab_type": "code",
        "colab": {}
      },
      "source": [
        "# vectorizer_pos = TfidfVectorizer(max_features=500)\n",
        "# vectorizer_pos.fit_transform(list_tfidf_pos).toarray()\n",
        "# vectorizer_neg = TfidfVectorizer(max_features=500)\n",
        "# vectorizer_neg.fit_transform(list_tfidf_neg).toarray()\n",
        "# vectorizer_mix = TfidfVectorizer(min_df=0.00001,max_features=40)\n",
        "# pos_and_neg = vectorizer_pos.get_feature_names()+vectorizer_neg.get_feature_names()\n",
        "# vectorizer_mix.fit_transform(pos_and_neg).toarray()\n",
        "# train_pos=train.query('target==1')\n",
        "# train_neg=train.query('target==0')\n",
        "# len(vectorizer_mix.get_feature_names())\n",
        "# vectorizer = vectorizer_mix"
      ],
      "execution_count": 0,
      "outputs": []
    },
    {
      "cell_type": "code",
      "metadata": {
        "id": "CMoz3St35g8I",
        "colab_type": "code",
        "colab": {}
      },
      "source": [
        "train['tfIdf_vector'] = train.apply(lambda row: createTfIdfArray(row['tokenized_sents'],vectorizer), axis=1)"
      ],
      "execution_count": 0,
      "outputs": []
    },
    {
      "cell_type": "code",
      "metadata": {
        "colab_type": "code",
        "id": "tvjt8CNAI2PY",
        "colab": {}
      },
      "source": [
        "test['tfIdf_vector'] = test.apply(lambda row: createTfIdfArray(row['tokenized_sents'],vectorizer), axis=1)"
      ],
      "execution_count": 0,
      "outputs": []
    },
    {
      "cell_type": "code",
      "metadata": {
        "id": "DXezC5itgcS4",
        "colab_type": "code",
        "colab": {}
      },
      "source": [
        "# train_pos['tfIdf_vector'] = train_pos.apply(lambda row: createTfIdfArray(row['tokenized_sents'],vectorizer_pos), axis=1)\n",
        "# train_neg['tfIdf_vector'] = train_neg.apply(lambda row: createTfIdfArray(row['tokenized_sents'],vectorizer_neg), axis=1)"
      ],
      "execution_count": 0,
      "outputs": []
    },
    {
      "cell_type": "code",
      "metadata": {
        "id": "DogDVoepjxxm",
        "colab_type": "code",
        "colab": {}
      },
      "source": [
        ""
      ],
      "execution_count": 0,
      "outputs": []
    },
    {
      "cell_type": "markdown",
      "metadata": {
        "id": "FviCAgKxPMfi",
        "colab_type": "text"
      },
      "source": [
        "**Categorial to int**"
      ]
    },
    {
      "cell_type": "code",
      "metadata": {
        "id": "UO4pdOuLP3VB",
        "colab_type": "code",
        "colab": {}
      },
      "source": [
        "map_keyword = {}\n",
        "for count,i in enumerate(train.keyword.unique()):\n",
        "  map_keyword[i] = count"
      ],
      "execution_count": 0,
      "outputs": []
    },
    {
      "cell_type": "code",
      "metadata": {
        "id": "bLhGmOr7RZNQ",
        "colab_type": "code",
        "colab": {}
      },
      "source": [
        "def keyword_to_int(keyword):\n",
        "  return map_keyword[keyword]"
      ],
      "execution_count": 0,
      "outputs": []
    },
    {
      "cell_type": "code",
      "metadata": {
        "id": "bb5qZW0jLulK",
        "colab_type": "code",
        "colab": {}
      },
      "source": [
        "train[\"keyword\"] = train.apply(lambda row: keyword_to_int(row['keyword']), axis=1)"
      ],
      "execution_count": 0,
      "outputs": []
    },
    {
      "cell_type": "code",
      "metadata": {
        "colab_type": "code",
        "id": "LB4W_QGKJKK1",
        "colab": {}
      },
      "source": [
        "test[\"keyword\"] = test.apply(lambda row: keyword_to_int(row['keyword']), axis=1)"
      ],
      "execution_count": 0,
      "outputs": []
    },
    {
      "cell_type": "code",
      "metadata": {
        "colab_type": "code",
        "id": "UntmNuasSXwz",
        "colab": {}
      },
      "source": [
        "map_location = {}\n",
        "for count,i in enumerate(train.location.unique()):\n",
        "  map_location[i] = count"
      ],
      "execution_count": 0,
      "outputs": []
    },
    {
      "cell_type": "code",
      "metadata": {
        "colab_type": "code",
        "id": "zCCvgnQxSXw6",
        "colab": {}
      },
      "source": [
        "def location_to_int(location):\n",
        "  try:\n",
        "    return map_location[location]\n",
        "  except:\n",
        "    return -1"
      ],
      "execution_count": 0,
      "outputs": []
    },
    {
      "cell_type": "code",
      "metadata": {
        "colab_type": "code",
        "id": "mze6JO8lSXw9",
        "colab": {}
      },
      "source": [
        "train[\"location\"] = train.apply(lambda row: location_to_int(row['location']), axis=1)"
      ],
      "execution_count": 0,
      "outputs": []
    },
    {
      "cell_type": "code",
      "metadata": {
        "colab_type": "code",
        "id": "Dpm_jycPJNgr",
        "colab": {}
      },
      "source": [
        "test[\"location\"] = test.apply(lambda row: location_to_int(row['location']), axis=1)"
      ],
      "execution_count": 0,
      "outputs": []
    },
    {
      "cell_type": "code",
      "metadata": {
        "colab_type": "code",
        "id": "mzcWQffFSyRX",
        "colab": {}
      },
      "source": [
        "map_hashtags = {}\n",
        "for count,i in enumerate(train.hashtags.unique()):\n",
        "  map_hashtags[i] = count"
      ],
      "execution_count": 0,
      "outputs": []
    },
    {
      "cell_type": "code",
      "metadata": {
        "colab_type": "code",
        "id": "lxei403hSyRe",
        "colab": {}
      },
      "source": [
        "def hashtags_to_int(hashtags):\n",
        "  try:\n",
        "    return map_hashtags[hashtags]\n",
        "  except:\n",
        "    return -1"
      ],
      "execution_count": 0,
      "outputs": []
    },
    {
      "cell_type": "code",
      "metadata": {
        "colab_type": "code",
        "id": "5Vrv-uo6SyRj",
        "colab": {}
      },
      "source": [
        "train[\"hashtags\"] = train.apply(lambda row: hashtags_to_int(row['hashtags']), axis=1)"
      ],
      "execution_count": 0,
      "outputs": []
    },
    {
      "cell_type": "code",
      "metadata": {
        "colab_type": "code",
        "id": "OHrlUs_NJRZB",
        "colab": {}
      },
      "source": [
        "test[\"hashtags\"] = test.apply(lambda row: hashtags_to_int(row['hashtags']), axis=1)"
      ],
      "execution_count": 0,
      "outputs": []
    },
    {
      "cell_type": "markdown",
      "metadata": {
        "id": "IFZ9rXk6dw7k",
        "colab_type": "text"
      },
      "source": [
        "### Create new train set"
      ]
    },
    {
      "cell_type": "code",
      "metadata": {
        "id": "9pr50e2Bt2ps",
        "colab_type": "code",
        "colab": {}
      },
      "source": [
        "new_train = train.copy()"
      ],
      "execution_count": 0,
      "outputs": []
    },
    {
      "cell_type": "code",
      "metadata": {
        "id": "RxWAhEaFJYYU",
        "colab_type": "code",
        "colab": {}
      },
      "source": [
        "new_test= test.copy()"
      ],
      "execution_count": 0,
      "outputs": []
    },
    {
      "cell_type": "code",
      "metadata": {
        "id": "6WdHYKOJqIIL",
        "colab_type": "code",
        "colab": {}
      },
      "source": [
        "def list_tfidf_by_index(count,df_new):\n",
        "  l = []\n",
        "  for k in df_new.tfIdf_vector:\n",
        "    l.append(k[count])\n",
        "  return l"
      ],
      "execution_count": 0,
      "outputs": []
    },
    {
      "cell_type": "code",
      "metadata": {
        "colab_type": "code",
        "id": "JqHj6KSkrq7_",
        "colab": {}
      },
      "source": [
        "for count in range(len(new_train.tfIdf_vector[0])):\n",
        "    new_train[\"tfIdf_\"+str(count)]= list_tfidf_by_index(count,new_train)"
      ],
      "execution_count": 0,
      "outputs": []
    },
    {
      "cell_type": "code",
      "metadata": {
        "colab_type": "code",
        "id": "yNvVoFjuJqsN",
        "colab": {}
      },
      "source": [
        "for count in range(len(new_test.tfIdf_vector[0])):\n",
        "    new_test[\"tfIdf_\"+str(count)]= list_tfidf_by_index(count,new_test)"
      ],
      "execution_count": 0,
      "outputs": []
    },
    {
      "cell_type": "code",
      "metadata": {
        "id": "9_jiy-r8d2ph",
        "colab_type": "code",
        "colab": {}
      },
      "source": [
        "new_train = new_train.drop(['id',\"keyword\",\"text_clean\",\"location\",'target',\"text\",\"tokenized_sents\",\"tfIdf_vector\",\"hashtags\"],axis=1)\n",
        "new_test = new_test.drop(['id',\"keyword\",\"text_clean\",\"location\",\"text\",\"tokenized_sents\",\"tfIdf_vector\",\"hashtags\"],axis=1)\n",
        "new_train = new_train.fillna(0)\n",
        "new_test = new_test.fillna(0)"
      ],
      "execution_count": 0,
      "outputs": []
    },
    {
      "cell_type": "code",
      "metadata": {
        "id": "OM-_KyoWtMU7",
        "colab_type": "code",
        "outputId": "455bc1e7-d2ac-4b90-fe5b-1c9f7d404110",
        "colab": {
          "base_uri": "https://localhost:8080/",
          "height": 419
        }
      },
      "source": [
        "new_test"
      ],
      "execution_count": 0,
      "outputs": [
        {
          "output_type": "execute_result",
          "data": {
            "text/html": [
              "<div>\n",
              "<style scoped>\n",
              "    .dataframe tbody tr th:only-of-type {\n",
              "        vertical-align: middle;\n",
              "    }\n",
              "\n",
              "    .dataframe tbody tr th {\n",
              "        vertical-align: top;\n",
              "    }\n",
              "\n",
              "    .dataframe thead th {\n",
              "        text-align: right;\n",
              "    }\n",
              "</style>\n",
              "<table border=\"1\" class=\"dataframe\">\n",
              "  <thead>\n",
              "    <tr style=\"text-align: right;\">\n",
              "      <th></th>\n",
              "      <th>text_len</th>\n",
              "      <th>punctuation_count</th>\n",
              "      <th>count_mentions</th>\n",
              "      <th>count_hashtags</th>\n",
              "      <th>count_links</th>\n",
              "      <th>count_Capital_letters</th>\n",
              "      <th>Capital_letters_precent</th>\n",
              "      <th>years_count</th>\n",
              "      <th>tfIdf_0</th>\n",
              "      <th>tfIdf_1</th>\n",
              "      <th>tfIdf_2</th>\n",
              "      <th>tfIdf_3</th>\n",
              "      <th>tfIdf_4</th>\n",
              "      <th>tfIdf_5</th>\n",
              "      <th>tfIdf_6</th>\n",
              "      <th>tfIdf_7</th>\n",
              "      <th>tfIdf_8</th>\n",
              "      <th>tfIdf_9</th>\n",
              "      <th>tfIdf_10</th>\n",
              "      <th>tfIdf_11</th>\n",
              "      <th>tfIdf_12</th>\n",
              "      <th>tfIdf_13</th>\n",
              "      <th>tfIdf_14</th>\n",
              "      <th>tfIdf_15</th>\n",
              "      <th>tfIdf_16</th>\n",
              "      <th>tfIdf_17</th>\n",
              "      <th>tfIdf_18</th>\n",
              "      <th>tfIdf_19</th>\n",
              "      <th>tfIdf_20</th>\n",
              "      <th>tfIdf_21</th>\n",
              "      <th>tfIdf_22</th>\n",
              "      <th>tfIdf_23</th>\n",
              "      <th>tfIdf_24</th>\n",
              "      <th>tfIdf_25</th>\n",
              "      <th>tfIdf_26</th>\n",
              "      <th>tfIdf_27</th>\n",
              "      <th>tfIdf_28</th>\n",
              "      <th>tfIdf_29</th>\n",
              "      <th>tfIdf_30</th>\n",
              "      <th>tfIdf_31</th>\n",
              "      <th>...</th>\n",
              "      <th>tfIdf_960</th>\n",
              "      <th>tfIdf_961</th>\n",
              "      <th>tfIdf_962</th>\n",
              "      <th>tfIdf_963</th>\n",
              "      <th>tfIdf_964</th>\n",
              "      <th>tfIdf_965</th>\n",
              "      <th>tfIdf_966</th>\n",
              "      <th>tfIdf_967</th>\n",
              "      <th>tfIdf_968</th>\n",
              "      <th>tfIdf_969</th>\n",
              "      <th>tfIdf_970</th>\n",
              "      <th>tfIdf_971</th>\n",
              "      <th>tfIdf_972</th>\n",
              "      <th>tfIdf_973</th>\n",
              "      <th>tfIdf_974</th>\n",
              "      <th>tfIdf_975</th>\n",
              "      <th>tfIdf_976</th>\n",
              "      <th>tfIdf_977</th>\n",
              "      <th>tfIdf_978</th>\n",
              "      <th>tfIdf_979</th>\n",
              "      <th>tfIdf_980</th>\n",
              "      <th>tfIdf_981</th>\n",
              "      <th>tfIdf_982</th>\n",
              "      <th>tfIdf_983</th>\n",
              "      <th>tfIdf_984</th>\n",
              "      <th>tfIdf_985</th>\n",
              "      <th>tfIdf_986</th>\n",
              "      <th>tfIdf_987</th>\n",
              "      <th>tfIdf_988</th>\n",
              "      <th>tfIdf_989</th>\n",
              "      <th>tfIdf_990</th>\n",
              "      <th>tfIdf_991</th>\n",
              "      <th>tfIdf_992</th>\n",
              "      <th>tfIdf_993</th>\n",
              "      <th>tfIdf_994</th>\n",
              "      <th>tfIdf_995</th>\n",
              "      <th>tfIdf_996</th>\n",
              "      <th>tfIdf_997</th>\n",
              "      <th>tfIdf_998</th>\n",
              "      <th>tfIdf_999</th>\n",
              "    </tr>\n",
              "  </thead>\n",
              "  <tbody>\n",
              "    <tr>\n",
              "      <th>0</th>\n",
              "      <td>0.225166</td>\n",
              "      <td>0</td>\n",
              "      <td>0</td>\n",
              "      <td>0</td>\n",
              "      <td>0</td>\n",
              "      <td>0</td>\n",
              "      <td>0.029412</td>\n",
              "      <td>0</td>\n",
              "      <td>0.0</td>\n",
              "      <td>0.0</td>\n",
              "      <td>0.0</td>\n",
              "      <td>0.0</td>\n",
              "      <td>0.0</td>\n",
              "      <td>0.0</td>\n",
              "      <td>0.0</td>\n",
              "      <td>0.0</td>\n",
              "      <td>0.0</td>\n",
              "      <td>0.0</td>\n",
              "      <td>0.0</td>\n",
              "      <td>0.0</td>\n",
              "      <td>0.0</td>\n",
              "      <td>0.0</td>\n",
              "      <td>0.0</td>\n",
              "      <td>0.0</td>\n",
              "      <td>0.0</td>\n",
              "      <td>0.0</td>\n",
              "      <td>0.0</td>\n",
              "      <td>0.0</td>\n",
              "      <td>0.0</td>\n",
              "      <td>0.0</td>\n",
              "      <td>0.0</td>\n",
              "      <td>0.0</td>\n",
              "      <td>0.0</td>\n",
              "      <td>0.0</td>\n",
              "      <td>0.0</td>\n",
              "      <td>0.0</td>\n",
              "      <td>0.0</td>\n",
              "      <td>0.0</td>\n",
              "      <td>0.000000</td>\n",
              "      <td>0.0</td>\n",
              "      <td>...</td>\n",
              "      <td>0.000000</td>\n",
              "      <td>0.0</td>\n",
              "      <td>0.0</td>\n",
              "      <td>0.0</td>\n",
              "      <td>0.0</td>\n",
              "      <td>0.0</td>\n",
              "      <td>0.000000</td>\n",
              "      <td>0.0</td>\n",
              "      <td>0.0</td>\n",
              "      <td>0.0</td>\n",
              "      <td>0.0</td>\n",
              "      <td>0.0</td>\n",
              "      <td>0.0</td>\n",
              "      <td>0.0</td>\n",
              "      <td>0.0</td>\n",
              "      <td>0.0</td>\n",
              "      <td>0.0</td>\n",
              "      <td>0.0</td>\n",
              "      <td>0.0</td>\n",
              "      <td>0.0</td>\n",
              "      <td>0.0</td>\n",
              "      <td>0.0</td>\n",
              "      <td>0.0</td>\n",
              "      <td>0.0</td>\n",
              "      <td>0.0</td>\n",
              "      <td>0.0</td>\n",
              "      <td>0.0</td>\n",
              "      <td>0.0</td>\n",
              "      <td>0.0</td>\n",
              "      <td>0.0</td>\n",
              "      <td>0.0</td>\n",
              "      <td>0.0</td>\n",
              "      <td>0.0</td>\n",
              "      <td>0.0</td>\n",
              "      <td>0.0</td>\n",
              "      <td>0.0</td>\n",
              "      <td>0.0</td>\n",
              "      <td>0.0</td>\n",
              "      <td>0.000000</td>\n",
              "      <td>0.0</td>\n",
              "    </tr>\n",
              "    <tr>\n",
              "      <th>1</th>\n",
              "      <td>0.423841</td>\n",
              "      <td>3</td>\n",
              "      <td>0</td>\n",
              "      <td>1</td>\n",
              "      <td>0</td>\n",
              "      <td>0</td>\n",
              "      <td>0.015625</td>\n",
              "      <td>0</td>\n",
              "      <td>0.0</td>\n",
              "      <td>0.0</td>\n",
              "      <td>0.0</td>\n",
              "      <td>0.0</td>\n",
              "      <td>0.0</td>\n",
              "      <td>0.0</td>\n",
              "      <td>0.0</td>\n",
              "      <td>0.0</td>\n",
              "      <td>0.0</td>\n",
              "      <td>0.0</td>\n",
              "      <td>0.0</td>\n",
              "      <td>0.0</td>\n",
              "      <td>0.0</td>\n",
              "      <td>0.0</td>\n",
              "      <td>0.0</td>\n",
              "      <td>0.0</td>\n",
              "      <td>0.0</td>\n",
              "      <td>0.0</td>\n",
              "      <td>0.0</td>\n",
              "      <td>0.0</td>\n",
              "      <td>0.0</td>\n",
              "      <td>0.0</td>\n",
              "      <td>0.0</td>\n",
              "      <td>0.0</td>\n",
              "      <td>0.0</td>\n",
              "      <td>0.0</td>\n",
              "      <td>0.0</td>\n",
              "      <td>0.0</td>\n",
              "      <td>0.0</td>\n",
              "      <td>0.0</td>\n",
              "      <td>0.000000</td>\n",
              "      <td>0.0</td>\n",
              "      <td>...</td>\n",
              "      <td>0.000000</td>\n",
              "      <td>0.0</td>\n",
              "      <td>0.0</td>\n",
              "      <td>0.0</td>\n",
              "      <td>0.0</td>\n",
              "      <td>0.0</td>\n",
              "      <td>0.000000</td>\n",
              "      <td>0.0</td>\n",
              "      <td>0.0</td>\n",
              "      <td>0.0</td>\n",
              "      <td>0.0</td>\n",
              "      <td>0.0</td>\n",
              "      <td>0.0</td>\n",
              "      <td>0.0</td>\n",
              "      <td>0.0</td>\n",
              "      <td>0.0</td>\n",
              "      <td>0.0</td>\n",
              "      <td>0.0</td>\n",
              "      <td>0.0</td>\n",
              "      <td>0.0</td>\n",
              "      <td>0.0</td>\n",
              "      <td>0.0</td>\n",
              "      <td>0.0</td>\n",
              "      <td>0.0</td>\n",
              "      <td>0.0</td>\n",
              "      <td>0.0</td>\n",
              "      <td>0.0</td>\n",
              "      <td>0.0</td>\n",
              "      <td>0.0</td>\n",
              "      <td>0.0</td>\n",
              "      <td>0.0</td>\n",
              "      <td>0.0</td>\n",
              "      <td>0.0</td>\n",
              "      <td>0.0</td>\n",
              "      <td>0.0</td>\n",
              "      <td>0.0</td>\n",
              "      <td>0.0</td>\n",
              "      <td>0.0</td>\n",
              "      <td>0.000000</td>\n",
              "      <td>0.0</td>\n",
              "    </tr>\n",
              "    <tr>\n",
              "      <th>2</th>\n",
              "      <td>0.635762</td>\n",
              "      <td>2</td>\n",
              "      <td>0</td>\n",
              "      <td>0</td>\n",
              "      <td>0</td>\n",
              "      <td>0</td>\n",
              "      <td>0.010417</td>\n",
              "      <td>0</td>\n",
              "      <td>0.0</td>\n",
              "      <td>0.0</td>\n",
              "      <td>0.0</td>\n",
              "      <td>0.0</td>\n",
              "      <td>0.0</td>\n",
              "      <td>0.0</td>\n",
              "      <td>0.0</td>\n",
              "      <td>0.0</td>\n",
              "      <td>0.0</td>\n",
              "      <td>0.0</td>\n",
              "      <td>0.0</td>\n",
              "      <td>0.0</td>\n",
              "      <td>0.0</td>\n",
              "      <td>0.0</td>\n",
              "      <td>0.0</td>\n",
              "      <td>0.0</td>\n",
              "      <td>0.0</td>\n",
              "      <td>0.0</td>\n",
              "      <td>0.0</td>\n",
              "      <td>0.0</td>\n",
              "      <td>0.0</td>\n",
              "      <td>0.0</td>\n",
              "      <td>0.0</td>\n",
              "      <td>0.0</td>\n",
              "      <td>0.0</td>\n",
              "      <td>0.0</td>\n",
              "      <td>0.0</td>\n",
              "      <td>0.0</td>\n",
              "      <td>0.0</td>\n",
              "      <td>0.0</td>\n",
              "      <td>0.453562</td>\n",
              "      <td>0.0</td>\n",
              "      <td>...</td>\n",
              "      <td>0.000000</td>\n",
              "      <td>0.0</td>\n",
              "      <td>0.0</td>\n",
              "      <td>0.0</td>\n",
              "      <td>0.0</td>\n",
              "      <td>0.0</td>\n",
              "      <td>0.000000</td>\n",
              "      <td>0.0</td>\n",
              "      <td>0.0</td>\n",
              "      <td>0.0</td>\n",
              "      <td>0.0</td>\n",
              "      <td>0.0</td>\n",
              "      <td>0.0</td>\n",
              "      <td>0.0</td>\n",
              "      <td>0.0</td>\n",
              "      <td>0.0</td>\n",
              "      <td>0.0</td>\n",
              "      <td>0.0</td>\n",
              "      <td>0.0</td>\n",
              "      <td>0.0</td>\n",
              "      <td>0.0</td>\n",
              "      <td>0.0</td>\n",
              "      <td>0.0</td>\n",
              "      <td>0.0</td>\n",
              "      <td>0.0</td>\n",
              "      <td>0.0</td>\n",
              "      <td>0.0</td>\n",
              "      <td>0.0</td>\n",
              "      <td>0.0</td>\n",
              "      <td>0.0</td>\n",
              "      <td>0.0</td>\n",
              "      <td>0.0</td>\n",
              "      <td>0.0</td>\n",
              "      <td>0.0</td>\n",
              "      <td>0.0</td>\n",
              "      <td>0.0</td>\n",
              "      <td>0.0</td>\n",
              "      <td>0.0</td>\n",
              "      <td>0.000000</td>\n",
              "      <td>0.0</td>\n",
              "    </tr>\n",
              "    <tr>\n",
              "      <th>3</th>\n",
              "      <td>0.264901</td>\n",
              "      <td>3</td>\n",
              "      <td>0</td>\n",
              "      <td>2</td>\n",
              "      <td>0</td>\n",
              "      <td>0</td>\n",
              "      <td>0.050000</td>\n",
              "      <td>0</td>\n",
              "      <td>0.0</td>\n",
              "      <td>0.0</td>\n",
              "      <td>0.0</td>\n",
              "      <td>0.0</td>\n",
              "      <td>0.0</td>\n",
              "      <td>0.0</td>\n",
              "      <td>0.0</td>\n",
              "      <td>0.0</td>\n",
              "      <td>0.0</td>\n",
              "      <td>0.0</td>\n",
              "      <td>0.0</td>\n",
              "      <td>0.0</td>\n",
              "      <td>0.0</td>\n",
              "      <td>0.0</td>\n",
              "      <td>0.0</td>\n",
              "      <td>0.0</td>\n",
              "      <td>0.0</td>\n",
              "      <td>0.0</td>\n",
              "      <td>0.0</td>\n",
              "      <td>0.0</td>\n",
              "      <td>0.0</td>\n",
              "      <td>0.0</td>\n",
              "      <td>0.0</td>\n",
              "      <td>0.0</td>\n",
              "      <td>0.0</td>\n",
              "      <td>0.0</td>\n",
              "      <td>0.0</td>\n",
              "      <td>0.0</td>\n",
              "      <td>0.0</td>\n",
              "      <td>0.0</td>\n",
              "      <td>0.000000</td>\n",
              "      <td>0.0</td>\n",
              "      <td>...</td>\n",
              "      <td>0.545919</td>\n",
              "      <td>0.0</td>\n",
              "      <td>0.0</td>\n",
              "      <td>0.0</td>\n",
              "      <td>0.0</td>\n",
              "      <td>0.0</td>\n",
              "      <td>0.000000</td>\n",
              "      <td>0.0</td>\n",
              "      <td>0.0</td>\n",
              "      <td>0.0</td>\n",
              "      <td>0.0</td>\n",
              "      <td>0.0</td>\n",
              "      <td>0.0</td>\n",
              "      <td>0.0</td>\n",
              "      <td>0.0</td>\n",
              "      <td>0.0</td>\n",
              "      <td>0.0</td>\n",
              "      <td>0.0</td>\n",
              "      <td>0.0</td>\n",
              "      <td>0.0</td>\n",
              "      <td>0.0</td>\n",
              "      <td>0.0</td>\n",
              "      <td>0.0</td>\n",
              "      <td>0.0</td>\n",
              "      <td>0.0</td>\n",
              "      <td>0.0</td>\n",
              "      <td>0.0</td>\n",
              "      <td>0.0</td>\n",
              "      <td>0.0</td>\n",
              "      <td>0.0</td>\n",
              "      <td>0.0</td>\n",
              "      <td>0.0</td>\n",
              "      <td>0.0</td>\n",
              "      <td>0.0</td>\n",
              "      <td>0.0</td>\n",
              "      <td>0.0</td>\n",
              "      <td>0.0</td>\n",
              "      <td>0.0</td>\n",
              "      <td>0.000000</td>\n",
              "      <td>0.0</td>\n",
              "    </tr>\n",
              "    <tr>\n",
              "      <th>4</th>\n",
              "      <td>0.298013</td>\n",
              "      <td>0</td>\n",
              "      <td>0</td>\n",
              "      <td>0</td>\n",
              "      <td>0</td>\n",
              "      <td>0</td>\n",
              "      <td>0.088889</td>\n",
              "      <td>0</td>\n",
              "      <td>0.0</td>\n",
              "      <td>0.0</td>\n",
              "      <td>0.0</td>\n",
              "      <td>0.0</td>\n",
              "      <td>0.0</td>\n",
              "      <td>0.0</td>\n",
              "      <td>0.0</td>\n",
              "      <td>0.0</td>\n",
              "      <td>0.0</td>\n",
              "      <td>0.0</td>\n",
              "      <td>0.0</td>\n",
              "      <td>0.0</td>\n",
              "      <td>0.0</td>\n",
              "      <td>0.0</td>\n",
              "      <td>0.0</td>\n",
              "      <td>0.0</td>\n",
              "      <td>0.0</td>\n",
              "      <td>0.0</td>\n",
              "      <td>0.0</td>\n",
              "      <td>0.0</td>\n",
              "      <td>0.0</td>\n",
              "      <td>0.0</td>\n",
              "      <td>0.0</td>\n",
              "      <td>0.0</td>\n",
              "      <td>0.0</td>\n",
              "      <td>0.0</td>\n",
              "      <td>0.0</td>\n",
              "      <td>0.0</td>\n",
              "      <td>0.0</td>\n",
              "      <td>0.0</td>\n",
              "      <td>0.000000</td>\n",
              "      <td>0.0</td>\n",
              "      <td>...</td>\n",
              "      <td>0.000000</td>\n",
              "      <td>0.0</td>\n",
              "      <td>0.0</td>\n",
              "      <td>0.0</td>\n",
              "      <td>0.0</td>\n",
              "      <td>0.0</td>\n",
              "      <td>0.000000</td>\n",
              "      <td>0.0</td>\n",
              "      <td>0.0</td>\n",
              "      <td>0.0</td>\n",
              "      <td>0.0</td>\n",
              "      <td>0.0</td>\n",
              "      <td>0.0</td>\n",
              "      <td>0.0</td>\n",
              "      <td>0.0</td>\n",
              "      <td>0.0</td>\n",
              "      <td>0.0</td>\n",
              "      <td>0.0</td>\n",
              "      <td>0.0</td>\n",
              "      <td>0.0</td>\n",
              "      <td>0.0</td>\n",
              "      <td>0.0</td>\n",
              "      <td>0.0</td>\n",
              "      <td>0.0</td>\n",
              "      <td>0.0</td>\n",
              "      <td>0.0</td>\n",
              "      <td>0.0</td>\n",
              "      <td>0.0</td>\n",
              "      <td>0.0</td>\n",
              "      <td>0.0</td>\n",
              "      <td>0.0</td>\n",
              "      <td>0.0</td>\n",
              "      <td>0.0</td>\n",
              "      <td>0.0</td>\n",
              "      <td>0.0</td>\n",
              "      <td>0.0</td>\n",
              "      <td>0.0</td>\n",
              "      <td>0.0</td>\n",
              "      <td>0.000000</td>\n",
              "      <td>0.0</td>\n",
              "    </tr>\n",
              "    <tr>\n",
              "      <th>...</th>\n",
              "      <td>...</td>\n",
              "      <td>...</td>\n",
              "      <td>...</td>\n",
              "      <td>...</td>\n",
              "      <td>...</td>\n",
              "      <td>...</td>\n",
              "      <td>...</td>\n",
              "      <td>...</td>\n",
              "      <td>...</td>\n",
              "      <td>...</td>\n",
              "      <td>...</td>\n",
              "      <td>...</td>\n",
              "      <td>...</td>\n",
              "      <td>...</td>\n",
              "      <td>...</td>\n",
              "      <td>...</td>\n",
              "      <td>...</td>\n",
              "      <td>...</td>\n",
              "      <td>...</td>\n",
              "      <td>...</td>\n",
              "      <td>...</td>\n",
              "      <td>...</td>\n",
              "      <td>...</td>\n",
              "      <td>...</td>\n",
              "      <td>...</td>\n",
              "      <td>...</td>\n",
              "      <td>...</td>\n",
              "      <td>...</td>\n",
              "      <td>...</td>\n",
              "      <td>...</td>\n",
              "      <td>...</td>\n",
              "      <td>...</td>\n",
              "      <td>...</td>\n",
              "      <td>...</td>\n",
              "      <td>...</td>\n",
              "      <td>...</td>\n",
              "      <td>...</td>\n",
              "      <td>...</td>\n",
              "      <td>...</td>\n",
              "      <td>...</td>\n",
              "      <td>...</td>\n",
              "      <td>...</td>\n",
              "      <td>...</td>\n",
              "      <td>...</td>\n",
              "      <td>...</td>\n",
              "      <td>...</td>\n",
              "      <td>...</td>\n",
              "      <td>...</td>\n",
              "      <td>...</td>\n",
              "      <td>...</td>\n",
              "      <td>...</td>\n",
              "      <td>...</td>\n",
              "      <td>...</td>\n",
              "      <td>...</td>\n",
              "      <td>...</td>\n",
              "      <td>...</td>\n",
              "      <td>...</td>\n",
              "      <td>...</td>\n",
              "      <td>...</td>\n",
              "      <td>...</td>\n",
              "      <td>...</td>\n",
              "      <td>...</td>\n",
              "      <td>...</td>\n",
              "      <td>...</td>\n",
              "      <td>...</td>\n",
              "      <td>...</td>\n",
              "      <td>...</td>\n",
              "      <td>...</td>\n",
              "      <td>...</td>\n",
              "      <td>...</td>\n",
              "      <td>...</td>\n",
              "      <td>...</td>\n",
              "      <td>...</td>\n",
              "      <td>...</td>\n",
              "      <td>...</td>\n",
              "      <td>...</td>\n",
              "      <td>...</td>\n",
              "      <td>...</td>\n",
              "      <td>...</td>\n",
              "      <td>...</td>\n",
              "      <td>...</td>\n",
              "    </tr>\n",
              "    <tr>\n",
              "      <th>3258</th>\n",
              "      <td>0.364238</td>\n",
              "      <td>0</td>\n",
              "      <td>0</td>\n",
              "      <td>0</td>\n",
              "      <td>0</td>\n",
              "      <td>2</td>\n",
              "      <td>0.818182</td>\n",
              "      <td>0</td>\n",
              "      <td>0.0</td>\n",
              "      <td>0.0</td>\n",
              "      <td>0.0</td>\n",
              "      <td>0.0</td>\n",
              "      <td>0.0</td>\n",
              "      <td>0.0</td>\n",
              "      <td>0.0</td>\n",
              "      <td>0.0</td>\n",
              "      <td>0.0</td>\n",
              "      <td>0.0</td>\n",
              "      <td>0.0</td>\n",
              "      <td>0.0</td>\n",
              "      <td>0.0</td>\n",
              "      <td>0.0</td>\n",
              "      <td>0.0</td>\n",
              "      <td>0.0</td>\n",
              "      <td>0.0</td>\n",
              "      <td>0.0</td>\n",
              "      <td>0.0</td>\n",
              "      <td>0.0</td>\n",
              "      <td>0.0</td>\n",
              "      <td>0.0</td>\n",
              "      <td>0.0</td>\n",
              "      <td>0.0</td>\n",
              "      <td>0.0</td>\n",
              "      <td>0.0</td>\n",
              "      <td>0.0</td>\n",
              "      <td>0.0</td>\n",
              "      <td>0.0</td>\n",
              "      <td>0.0</td>\n",
              "      <td>0.000000</td>\n",
              "      <td>0.0</td>\n",
              "      <td>...</td>\n",
              "      <td>0.000000</td>\n",
              "      <td>0.0</td>\n",
              "      <td>0.0</td>\n",
              "      <td>0.0</td>\n",
              "      <td>0.0</td>\n",
              "      <td>0.0</td>\n",
              "      <td>0.000000</td>\n",
              "      <td>0.0</td>\n",
              "      <td>0.0</td>\n",
              "      <td>0.0</td>\n",
              "      <td>0.0</td>\n",
              "      <td>0.0</td>\n",
              "      <td>0.0</td>\n",
              "      <td>0.0</td>\n",
              "      <td>0.0</td>\n",
              "      <td>0.0</td>\n",
              "      <td>0.0</td>\n",
              "      <td>0.0</td>\n",
              "      <td>0.0</td>\n",
              "      <td>0.0</td>\n",
              "      <td>0.0</td>\n",
              "      <td>0.0</td>\n",
              "      <td>0.0</td>\n",
              "      <td>0.0</td>\n",
              "      <td>0.0</td>\n",
              "      <td>0.0</td>\n",
              "      <td>0.0</td>\n",
              "      <td>0.0</td>\n",
              "      <td>0.0</td>\n",
              "      <td>0.0</td>\n",
              "      <td>0.0</td>\n",
              "      <td>0.0</td>\n",
              "      <td>0.0</td>\n",
              "      <td>0.0</td>\n",
              "      <td>0.0</td>\n",
              "      <td>0.0</td>\n",
              "      <td>0.0</td>\n",
              "      <td>0.0</td>\n",
              "      <td>0.715602</td>\n",
              "      <td>0.0</td>\n",
              "    </tr>\n",
              "    <tr>\n",
              "      <th>3259</th>\n",
              "      <td>0.920530</td>\n",
              "      <td>5</td>\n",
              "      <td>0</td>\n",
              "      <td>0</td>\n",
              "      <td>0</td>\n",
              "      <td>0</td>\n",
              "      <td>0.050360</td>\n",
              "      <td>0</td>\n",
              "      <td>0.0</td>\n",
              "      <td>0.0</td>\n",
              "      <td>0.0</td>\n",
              "      <td>0.0</td>\n",
              "      <td>0.0</td>\n",
              "      <td>0.0</td>\n",
              "      <td>0.0</td>\n",
              "      <td>0.0</td>\n",
              "      <td>0.0</td>\n",
              "      <td>0.0</td>\n",
              "      <td>0.0</td>\n",
              "      <td>0.0</td>\n",
              "      <td>0.0</td>\n",
              "      <td>0.0</td>\n",
              "      <td>0.0</td>\n",
              "      <td>0.0</td>\n",
              "      <td>0.0</td>\n",
              "      <td>0.0</td>\n",
              "      <td>0.0</td>\n",
              "      <td>0.0</td>\n",
              "      <td>0.0</td>\n",
              "      <td>0.0</td>\n",
              "      <td>0.0</td>\n",
              "      <td>0.0</td>\n",
              "      <td>0.0</td>\n",
              "      <td>0.0</td>\n",
              "      <td>0.0</td>\n",
              "      <td>0.0</td>\n",
              "      <td>0.0</td>\n",
              "      <td>0.0</td>\n",
              "      <td>0.000000</td>\n",
              "      <td>0.0</td>\n",
              "      <td>...</td>\n",
              "      <td>0.000000</td>\n",
              "      <td>0.0</td>\n",
              "      <td>0.0</td>\n",
              "      <td>0.0</td>\n",
              "      <td>0.0</td>\n",
              "      <td>0.0</td>\n",
              "      <td>0.263995</td>\n",
              "      <td>0.0</td>\n",
              "      <td>0.0</td>\n",
              "      <td>0.0</td>\n",
              "      <td>0.0</td>\n",
              "      <td>0.0</td>\n",
              "      <td>0.0</td>\n",
              "      <td>0.0</td>\n",
              "      <td>0.0</td>\n",
              "      <td>0.0</td>\n",
              "      <td>0.0</td>\n",
              "      <td>0.0</td>\n",
              "      <td>0.0</td>\n",
              "      <td>0.0</td>\n",
              "      <td>0.0</td>\n",
              "      <td>0.0</td>\n",
              "      <td>0.0</td>\n",
              "      <td>0.0</td>\n",
              "      <td>0.0</td>\n",
              "      <td>0.0</td>\n",
              "      <td>0.0</td>\n",
              "      <td>0.0</td>\n",
              "      <td>0.0</td>\n",
              "      <td>0.0</td>\n",
              "      <td>0.0</td>\n",
              "      <td>0.0</td>\n",
              "      <td>0.0</td>\n",
              "      <td>0.0</td>\n",
              "      <td>0.0</td>\n",
              "      <td>0.0</td>\n",
              "      <td>0.0</td>\n",
              "      <td>0.0</td>\n",
              "      <td>0.000000</td>\n",
              "      <td>0.0</td>\n",
              "    </tr>\n",
              "    <tr>\n",
              "      <th>3260</th>\n",
              "      <td>0.364238</td>\n",
              "      <td>0</td>\n",
              "      <td>0</td>\n",
              "      <td>0</td>\n",
              "      <td>1</td>\n",
              "      <td>0</td>\n",
              "      <td>0.163636</td>\n",
              "      <td>0</td>\n",
              "      <td>0.0</td>\n",
              "      <td>0.0</td>\n",
              "      <td>0.0</td>\n",
              "      <td>0.0</td>\n",
              "      <td>0.0</td>\n",
              "      <td>0.0</td>\n",
              "      <td>0.0</td>\n",
              "      <td>0.0</td>\n",
              "      <td>0.0</td>\n",
              "      <td>0.0</td>\n",
              "      <td>0.0</td>\n",
              "      <td>0.0</td>\n",
              "      <td>0.0</td>\n",
              "      <td>0.0</td>\n",
              "      <td>0.0</td>\n",
              "      <td>0.0</td>\n",
              "      <td>0.0</td>\n",
              "      <td>0.0</td>\n",
              "      <td>0.0</td>\n",
              "      <td>0.0</td>\n",
              "      <td>0.0</td>\n",
              "      <td>0.0</td>\n",
              "      <td>0.0</td>\n",
              "      <td>0.0</td>\n",
              "      <td>0.0</td>\n",
              "      <td>0.0</td>\n",
              "      <td>0.0</td>\n",
              "      <td>0.0</td>\n",
              "      <td>0.0</td>\n",
              "      <td>0.0</td>\n",
              "      <td>0.000000</td>\n",
              "      <td>0.0</td>\n",
              "      <td>...</td>\n",
              "      <td>0.000000</td>\n",
              "      <td>0.0</td>\n",
              "      <td>0.0</td>\n",
              "      <td>0.0</td>\n",
              "      <td>0.0</td>\n",
              "      <td>0.0</td>\n",
              "      <td>0.000000</td>\n",
              "      <td>0.0</td>\n",
              "      <td>0.0</td>\n",
              "      <td>0.0</td>\n",
              "      <td>0.0</td>\n",
              "      <td>0.0</td>\n",
              "      <td>0.0</td>\n",
              "      <td>0.0</td>\n",
              "      <td>0.0</td>\n",
              "      <td>0.0</td>\n",
              "      <td>0.0</td>\n",
              "      <td>0.0</td>\n",
              "      <td>0.0</td>\n",
              "      <td>0.0</td>\n",
              "      <td>0.0</td>\n",
              "      <td>0.0</td>\n",
              "      <td>0.0</td>\n",
              "      <td>0.0</td>\n",
              "      <td>0.0</td>\n",
              "      <td>0.0</td>\n",
              "      <td>0.0</td>\n",
              "      <td>0.0</td>\n",
              "      <td>0.0</td>\n",
              "      <td>0.0</td>\n",
              "      <td>0.0</td>\n",
              "      <td>0.0</td>\n",
              "      <td>0.0</td>\n",
              "      <td>0.0</td>\n",
              "      <td>0.0</td>\n",
              "      <td>0.0</td>\n",
              "      <td>0.0</td>\n",
              "      <td>0.0</td>\n",
              "      <td>0.000000</td>\n",
              "      <td>0.0</td>\n",
              "    </tr>\n",
              "    <tr>\n",
              "      <th>3261</th>\n",
              "      <td>0.430464</td>\n",
              "      <td>2</td>\n",
              "      <td>0</td>\n",
              "      <td>0</td>\n",
              "      <td>1</td>\n",
              "      <td>0</td>\n",
              "      <td>0.230769</td>\n",
              "      <td>0</td>\n",
              "      <td>0.0</td>\n",
              "      <td>0.0</td>\n",
              "      <td>0.0</td>\n",
              "      <td>0.0</td>\n",
              "      <td>0.0</td>\n",
              "      <td>0.0</td>\n",
              "      <td>0.0</td>\n",
              "      <td>0.0</td>\n",
              "      <td>0.0</td>\n",
              "      <td>0.0</td>\n",
              "      <td>0.0</td>\n",
              "      <td>0.0</td>\n",
              "      <td>0.0</td>\n",
              "      <td>0.0</td>\n",
              "      <td>0.0</td>\n",
              "      <td>0.0</td>\n",
              "      <td>0.0</td>\n",
              "      <td>0.0</td>\n",
              "      <td>0.0</td>\n",
              "      <td>0.0</td>\n",
              "      <td>0.0</td>\n",
              "      <td>0.0</td>\n",
              "      <td>0.0</td>\n",
              "      <td>0.0</td>\n",
              "      <td>0.0</td>\n",
              "      <td>0.0</td>\n",
              "      <td>0.0</td>\n",
              "      <td>0.0</td>\n",
              "      <td>0.0</td>\n",
              "      <td>0.0</td>\n",
              "      <td>0.000000</td>\n",
              "      <td>0.0</td>\n",
              "      <td>...</td>\n",
              "      <td>0.000000</td>\n",
              "      <td>0.0</td>\n",
              "      <td>0.0</td>\n",
              "      <td>0.0</td>\n",
              "      <td>0.0</td>\n",
              "      <td>0.0</td>\n",
              "      <td>0.000000</td>\n",
              "      <td>0.0</td>\n",
              "      <td>0.0</td>\n",
              "      <td>0.0</td>\n",
              "      <td>0.0</td>\n",
              "      <td>0.0</td>\n",
              "      <td>0.0</td>\n",
              "      <td>0.0</td>\n",
              "      <td>0.0</td>\n",
              "      <td>0.0</td>\n",
              "      <td>0.0</td>\n",
              "      <td>0.0</td>\n",
              "      <td>0.0</td>\n",
              "      <td>0.0</td>\n",
              "      <td>0.0</td>\n",
              "      <td>0.0</td>\n",
              "      <td>0.0</td>\n",
              "      <td>0.0</td>\n",
              "      <td>0.0</td>\n",
              "      <td>0.0</td>\n",
              "      <td>0.0</td>\n",
              "      <td>0.0</td>\n",
              "      <td>0.0</td>\n",
              "      <td>0.0</td>\n",
              "      <td>0.0</td>\n",
              "      <td>0.0</td>\n",
              "      <td>0.0</td>\n",
              "      <td>0.0</td>\n",
              "      <td>0.0</td>\n",
              "      <td>0.0</td>\n",
              "      <td>0.0</td>\n",
              "      <td>0.0</td>\n",
              "      <td>0.000000</td>\n",
              "      <td>0.0</td>\n",
              "    </tr>\n",
              "    <tr>\n",
              "      <th>3262</th>\n",
              "      <td>0.450331</td>\n",
              "      <td>3</td>\n",
              "      <td>0</td>\n",
              "      <td>2</td>\n",
              "      <td>0</td>\n",
              "      <td>0</td>\n",
              "      <td>0.073529</td>\n",
              "      <td>0</td>\n",
              "      <td>0.0</td>\n",
              "      <td>0.0</td>\n",
              "      <td>0.0</td>\n",
              "      <td>0.0</td>\n",
              "      <td>0.0</td>\n",
              "      <td>0.0</td>\n",
              "      <td>0.0</td>\n",
              "      <td>0.0</td>\n",
              "      <td>0.0</td>\n",
              "      <td>0.0</td>\n",
              "      <td>0.0</td>\n",
              "      <td>0.0</td>\n",
              "      <td>0.0</td>\n",
              "      <td>0.0</td>\n",
              "      <td>0.0</td>\n",
              "      <td>0.0</td>\n",
              "      <td>0.0</td>\n",
              "      <td>0.0</td>\n",
              "      <td>0.0</td>\n",
              "      <td>0.0</td>\n",
              "      <td>0.0</td>\n",
              "      <td>0.0</td>\n",
              "      <td>0.0</td>\n",
              "      <td>0.0</td>\n",
              "      <td>0.0</td>\n",
              "      <td>0.0</td>\n",
              "      <td>0.0</td>\n",
              "      <td>0.0</td>\n",
              "      <td>0.0</td>\n",
              "      <td>0.0</td>\n",
              "      <td>0.000000</td>\n",
              "      <td>0.0</td>\n",
              "      <td>...</td>\n",
              "      <td>0.000000</td>\n",
              "      <td>0.0</td>\n",
              "      <td>0.0</td>\n",
              "      <td>0.0</td>\n",
              "      <td>0.0</td>\n",
              "      <td>0.0</td>\n",
              "      <td>0.000000</td>\n",
              "      <td>0.0</td>\n",
              "      <td>0.0</td>\n",
              "      <td>0.0</td>\n",
              "      <td>0.0</td>\n",
              "      <td>0.0</td>\n",
              "      <td>0.0</td>\n",
              "      <td>0.0</td>\n",
              "      <td>0.0</td>\n",
              "      <td>0.0</td>\n",
              "      <td>0.0</td>\n",
              "      <td>0.0</td>\n",
              "      <td>0.0</td>\n",
              "      <td>0.0</td>\n",
              "      <td>0.0</td>\n",
              "      <td>0.0</td>\n",
              "      <td>0.0</td>\n",
              "      <td>0.0</td>\n",
              "      <td>0.0</td>\n",
              "      <td>0.0</td>\n",
              "      <td>0.0</td>\n",
              "      <td>0.0</td>\n",
              "      <td>0.0</td>\n",
              "      <td>0.0</td>\n",
              "      <td>0.0</td>\n",
              "      <td>0.0</td>\n",
              "      <td>0.0</td>\n",
              "      <td>0.0</td>\n",
              "      <td>0.0</td>\n",
              "      <td>0.0</td>\n",
              "      <td>0.0</td>\n",
              "      <td>0.0</td>\n",
              "      <td>0.000000</td>\n",
              "      <td>0.0</td>\n",
              "    </tr>\n",
              "  </tbody>\n",
              "</table>\n",
              "<p>3263 rows × 1008 columns</p>\n",
              "</div>"
            ],
            "text/plain": [
              "      text_len  punctuation_count  ...  tfIdf_998  tfIdf_999\n",
              "0     0.225166                  0  ...   0.000000        0.0\n",
              "1     0.423841                  3  ...   0.000000        0.0\n",
              "2     0.635762                  2  ...   0.000000        0.0\n",
              "3     0.264901                  3  ...   0.000000        0.0\n",
              "4     0.298013                  0  ...   0.000000        0.0\n",
              "...        ...                ...  ...        ...        ...\n",
              "3258  0.364238                  0  ...   0.715602        0.0\n",
              "3259  0.920530                  5  ...   0.000000        0.0\n",
              "3260  0.364238                  0  ...   0.000000        0.0\n",
              "3261  0.430464                  2  ...   0.000000        0.0\n",
              "3262  0.450331                  3  ...   0.000000        0.0\n",
              "\n",
              "[3263 rows x 1008 columns]"
            ]
          },
          "metadata": {
            "tags": []
          },
          "execution_count": 62
        }
      ]
    },
    {
      "cell_type": "markdown",
      "metadata": {
        "id": "T0hRTNOyE8ln",
        "colab_type": "text"
      },
      "source": [
        "##Train-Val-Test-Split"
      ]
    },
    {
      "cell_type": "code",
      "metadata": {
        "id": "fma-uEtWFEvO",
        "colab_type": "code",
        "colab": {}
      },
      "source": [
        "from sklearn.model_selection import train_test_split"
      ],
      "execution_count": 0,
      "outputs": []
    },
    {
      "cell_type": "code",
      "metadata": {
        "id": "mgMvtI6sFc3R",
        "colab_type": "code",
        "colab": {}
      },
      "source": [
        "X_train, X_val, y_train, y_val = train_test_split(new_train, train['target'], test_size=0.1, random_state=1)"
      ],
      "execution_count": 0,
      "outputs": []
    },
    {
      "cell_type": "code",
      "metadata": {
        "id": "6ok2lHZCOraf",
        "colab_type": "code",
        "colab": {}
      },
      "source": [
        "# new_train = new_train.sample(frac=1)\n",
        "# new_val = new_val.sample(frac=1)"
      ],
      "execution_count": 0,
      "outputs": []
    },
    {
      "cell_type": "code",
      "metadata": {
        "id": "B6gZBdunNzHr",
        "colab_type": "code",
        "colab": {}
      },
      "source": [
        "#  X_train, X_val, y_train, y_val = new_train.drop([\"target\"],axis=1),new_val.drop([\"target\"],axis=1),new_train[\"target\"],new_val[\"target\"]"
      ],
      "execution_count": 0,
      "outputs": []
    },
    {
      "cell_type": "code",
      "metadata": {
        "id": "tTrP47HUGrqd",
        "colab_type": "code",
        "outputId": "a9739b52-a199-42e1-997f-89e3beb6bdf1",
        "colab": {
          "base_uri": "https://localhost:8080/",
          "height": 70
        }
      },
      "source": [
        "y_train.value_counts()"
      ],
      "execution_count": 0,
      "outputs": [
        {
          "output_type": "execute_result",
          "data": {
            "text/plain": [
              "0    3904\n",
              "1    2947\n",
              "Name: target, dtype: int64"
            ]
          },
          "metadata": {
            "tags": []
          },
          "execution_count": 67
        }
      ]
    },
    {
      "cell_type": "code",
      "metadata": {
        "id": "T4KknlGE317D",
        "colab_type": "code",
        "colab": {}
      },
      "source": [
        "# Cross validation\n",
        "from sklearn.model_selection import cross_val_score\n",
        "from sklearn.model_selection import ShuffleSplit\n",
        "\n"
      ],
      "execution_count": 0,
      "outputs": []
    },
    {
      "cell_type": "markdown",
      "metadata": {
        "id": "NYuulMCmusJg",
        "colab_type": "text"
      },
      "source": [
        "## model"
      ]
    },
    {
      "cell_type": "code",
      "metadata": {
        "id": "llCFlyvUT8uX",
        "colab_type": "code",
        "colab": {}
      },
      "source": [
        "from sklearn.linear_model import LogisticRegression\n",
        "from sklearn.preprocessing import MinMaxScaler\n",
        "from sklearn.pipeline import Pipeline"
      ],
      "execution_count": 0,
      "outputs": []
    },
    {
      "cell_type": "code",
      "metadata": {
        "id": "zr2wsAnnx5Xg",
        "colab_type": "code",
        "colab": {}
      },
      "source": [
        "from sklearn.ensemble import RandomForestClassifier\n",
        "from sklearn import metrics\n",
        "clf = RandomForestClassifier(n_estimators=400,max_depth=1600, random_state=0)"
      ],
      "execution_count": 0,
      "outputs": []
    },
    {
      "cell_type": "code",
      "metadata": {
        "id": "Xn6bZiFFzM7N",
        "colab_type": "code",
        "outputId": "1ad989ca-08b7-4429-9ad5-1f928c89394b",
        "colab": {
          "base_uri": "https://localhost:8080/",
          "height": 35
        }
      },
      "source": [
        "clf.fit(X_train,y_train)\n",
        "pred = clf.predict(X_val)\n",
        "pscore = metrics.accuracy_score(y_val, pred)\n",
        "pscore"
      ],
      "execution_count": 0,
      "outputs": [
        {
          "output_type": "execute_result",
          "data": {
            "text/plain": [
              "0.7952755905511811"
            ]
          },
          "metadata": {
            "tags": []
          },
          "execution_count": 71
        }
      ]
    },
    {
      "cell_type": "code",
      "metadata": {
        "id": "3CUn7GL7uhbH",
        "colab_type": "code",
        "colab": {}
      },
      "source": [
        ""
      ],
      "execution_count": 0,
      "outputs": []
    },
    {
      "cell_type": "markdown",
      "metadata": {
        "id": "AxkiZMplHi_l",
        "colab_type": "text"
      },
      "source": [
        "##Test"
      ]
    },
    {
      "cell_type": "code",
      "metadata": {
        "id": "zfCWw5F9HksW",
        "colab_type": "code",
        "colab": {}
      },
      "source": [
        "# pred = pipeline.predict(new_test)\n",
        "pred = clf.predict(new_test)"
      ],
      "execution_count": 0,
      "outputs": []
    },
    {
      "cell_type": "code",
      "metadata": {
        "id": "Y_J6FcxQMe2O",
        "colab_type": "code",
        "colab": {}
      },
      "source": [
        "sample_submission['target'] = pred"
      ],
      "execution_count": 0,
      "outputs": []
    },
    {
      "cell_type": "code",
      "metadata": {
        "id": "7PMoobPVNq8D",
        "colab_type": "code",
        "colab": {}
      },
      "source": [
        "sample_submission.to_csv('submission.csv',index = False)"
      ],
      "execution_count": 0,
      "outputs": []
    },
    {
      "cell_type": "code",
      "metadata": {
        "id": "MoQkFpxRNwlq",
        "colab_type": "code",
        "colab": {}
      },
      "source": [
        ""
      ],
      "execution_count": 0,
      "outputs": []
    }
  ]
}